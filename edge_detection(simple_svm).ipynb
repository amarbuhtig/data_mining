{
 "cells": [
  {
   "cell_type": "code",
   "execution_count": null,
   "metadata": {
    "collapsed": true
   },
   "outputs": [],
   "source": [
    "#if the data is simple enough a lot of  classification algorithms are just edge detection, such as SVM"
   ]
  },
  {
   "cell_type": "code",
   "execution_count": 1,
   "metadata": {
    "collapsed": true
   },
   "outputs": [],
   "source": [
    "from __future__ import division\n",
    "import tensor_calculation as t\n",
    "import tensor_advanced as ta"
   ]
  },
  {
   "cell_type": "code",
   "execution_count": 2,
   "metadata": {
    "collapsed": true
   },
   "outputs": [],
   "source": [
    "def dist(v,u):\n",
    "    return t.list_contrac(t.list_sub(v, u), t.list_sub(v, u))**0.5"
   ]
  },
  {
   "cell_type": "code",
   "execution_count": 4,
   "metadata": {
    "collapsed": true
   },
   "outputs": [],
   "source": [
    "def mat_len(data0, data1):\n",
    "    return [[dist(i,j) for i in data1 ] for j in data0]"
   ]
  },
  {
   "cell_type": "code",
   "execution_count": 23,
   "metadata": {
    "collapsed": true
   },
   "outputs": [],
   "source": [
    "def edge_detection(data):\n",
    "    data0, data1 = [d[0] for d in data if d[1] ==[1,0] ], [d[0] for d in data if d[1] ==[0,1]]     \n",
    "    len_matr = mat_len(data0, data1)\n",
    "    tlen_matr = t.transp(len_matr,[1,0])\n",
    "    minlen10 = [ [l, len_matr[l].index(min(len_matr[l]))]  for l in range(len(len_matr)) ]   #find nearest points\n",
    "    minlen01= [ [l, tlen_matr[l].index(min(tlen_matr[l]))]  for l in range(len(tlen_matr)) ]\n",
    "    #try to find points that are nearest to each other but belong to different classes\n",
    "    near_index = [ml  for ml in  minlen10 if minlen01[ml[1]][1] == ml[0]]\n",
    "    # if  data is simple enough this result will be equivalent to svm\n",
    "    #lenth = [ t.locate_element(minlen10 , ni) for l in ]\n",
    "    #svm_index = near_index[lenth.index(lenth)]\n",
    "    #return data0[svm_index [0]], data1[svm_index [1]] \n",
    "    return [[data0[ni[0]], data1[ni[1]]] for ni in near_index]"
   ]
  },
  {
   "cell_type": "code",
   "execution_count": 13,
   "metadata": {
    "collapsed": false
   },
   "outputs": [],
   "source": [
    "data_k=ta.gene_random_tensor([1000,2], (-2, 2))\n",
    "data =[]\n",
    "for dk in data_k:\n",
    "    if (dk[0]-1)**2+ dk[1]**2<0.5**2:\n",
    "        data.append([dk, [1,0]])\n",
    "    elif(dk[0]+1)**2+ dk[1]**2<0.5**2:\n",
    "        data.append([dk, [0,1]])"
   ]
  },
  {
   "cell_type": "code",
   "execution_count": 24,
   "metadata": {
    "collapsed": false
   },
   "outputs": [
    {
     "data": {
      "text/plain": [
       "[[[0.5368849236477868, 0.03529879196801344],\n",
       "  [-0.5459155789407655, -0.031082250033472647]]]"
      ]
     },
     "execution_count": 24,
     "metadata": {},
     "output_type": "execute_result"
    }
   ],
   "source": [
    "edge_detection(data)"
   ]
  }
 ],
 "metadata": {
  "kernelspec": {
   "display_name": "Python 2",
   "language": "python",
   "name": "python2"
  },
  "language_info": {
   "codemirror_mode": {
    "name": "ipython",
    "version": 2
   },
   "file_extension": ".py",
   "mimetype": "text/x-python",
   "name": "python",
   "nbconvert_exporter": "python",
   "pygments_lexer": "ipython2",
   "version": "2.7.13"
  }
 },
 "nbformat": 4,
 "nbformat_minor": 2
}
