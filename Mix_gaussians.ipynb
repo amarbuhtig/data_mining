{
 "cells": [
  {
   "cell_type": "code",
   "execution_count": 1,
   "metadata": {
    "collapsed": false
   },
   "outputs": [],
   "source": [
    "from __future__ import division\n",
    "import tensor_calculation as t\n",
    "import tensor_advanced as ta\n",
    "import random\n",
    "from scipy import stats \n",
    "from scipy.stats import multivariate_normal as m_n\n",
    "import numpy as np\n",
    "import data_whitening as dw\n",
    "from  math import log"
   ]
  },
  {
   "cell_type": "code",
   "execution_count": 2,
   "metadata": {
    "collapsed": true
   },
   "outputs": [],
   "source": [
    "def vec_mean(v):\n",
    "    return t.list_nu( t.list_sum(v), 1/max(1, len(v)))"
   ]
  },
  {
   "cell_type": "code",
   "execution_count": 3,
   "metadata": {
    "collapsed": true
   },
   "outputs": [],
   "source": [
    "def dist(v,u):\n",
    "    return t.list_contrac(t.list_sub(v, u), t.list_sub(v, u))**0.5"
   ]
  },
  {
   "cell_type": "code",
   "execution_count": 4,
   "metadata": {
    "collapsed": false
   },
   "outputs": [],
   "source": [
    "def make_mat(u, v):\n",
    "    return ta.mat_dot(ta.colu_fi(u), [v])"
   ]
  },
  {
   "cell_type": "code",
   "execution_count": 5,
   "metadata": {
    "collapsed": true
   },
   "outputs": [],
   "source": [
    "def trace(m):\n",
    "    dig = [m[i][i] for i in range(len(m))]\n",
    "    return sum(dig)"
   ]
  },
  {
   "cell_type": "code",
   "execution_count": 6,
   "metadata": {
    "collapsed": true
   },
   "outputs": [],
   "source": [
    "def ge_pi (k):           #generate a multinomial\n",
    "    l = [random.randint(0, 10000) for i in range(k-1)]\n",
    "    l_p = sorted(l)+[10000]\n",
    "    l_m =[0]+sorted(l)\n",
    "    l_re = [i-j for (i,j) in zip(l_p , l_m)]\n",
    "    return [i/10000 for i in l_re]"
   ]
  },
  {
   "cell_type": "code",
   "execution_count": 7,
   "metadata": {
    "collapsed": true
   },
   "outputs": [],
   "source": [
    "def ge_pi2 (k):\n",
    "    l = [random.randint(0, 10000/(k-1)) for i in range(k-1)]\n",
    "    l_re=[ i-j+(10000/(k-1))  for (i,j) in zip(l+[0], [10000/(k-1)]+l)]\n",
    "    return [ i/10000 for i in l_re]"
   ]
  },
  {
   "cell_type": "code",
   "execution_count": 8,
   "metadata": {
    "collapsed": true
   },
   "outputs": [],
   "source": [
    "def ge_cov(k):    #generate a covariance matrix\n",
    "    data_x=ta.gene_random_tensor([10,k], (-1, 1))\n",
    "    return dw.covari(data_x)"
   ]
  },
  {
   "cell_type": "code",
   "execution_count": 22,
   "metadata": {
    "collapsed": true
   },
   "outputs": [],
   "source": [
    "def comp_gam(data, c, cov, pi):           #compute gama from data\n",
    "    gam_data=[[m_n.pdf(i, j, k)*l for (j,k,l) in zip(c, cov, pi)] for i in data]\n",
    "    return t.transp([[j/sum(i) for j in i] for i in gam_data], [1,0] )#i is a list "
   ]
  },
  {
   "cell_type": "code",
   "execution_count": 10,
   "metadata": {
    "collapsed": false
   },
   "outputs": [],
   "source": [
    "def c_upd(data, gam, n_k):           #updata c\n",
    "    data1 = [[t.list_nu(j,k) for (j,k) in zip(data, i) ]  for i in gam]\n",
    "    return [t.list_nu(t.list_sum(i), 1/j) for (i,j) in zip(data1, n_k)]"
   ]
  },
  {
   "cell_type": "code",
   "execution_count": 11,
   "metadata": {
    "collapsed": false
   },
   "outputs": [],
   "source": [
    "def cov_upd(data, c, gma, n_k):     #update all the covariance at once\n",
    "    data1 = [[t.list_sub(j, i)for j in data] for i in c]\n",
    "    data2=[[t.list_nu(l,k) for (k,l) in zip(i,j)] for (i,j) in zip(gma, data1)]  #i,j are lists\n",
    "    mat_unsum=[[make_mat(i, j) for (i,j) in zip(k,l)] for (k,l) in zip(data1, data2)]\n",
    "    mat =[t.list_sum(i) for i in mat_unsum]\n",
    "    return [t.list_nu( j, 1/i) for (i,j) in zip(n_k, mat)]"
   ]
  },
  {
   "cell_type": "code",
   "execution_count": 12,
   "metadata": {
    "collapsed": false
   },
   "outputs": [],
   "source": [
    "def lik_hod(data, c, cov_l, pi):\n",
    "    data_likhod = [ sum([m_n.pdf(i, j, k)*l for (j,k,l) in zip (c, cov_l, pi) ]) for i in data]\n",
    "    return -1*log(t.list_mu(data_likhod))"
   ]
  },
  {
   "cell_type": "code",
   "execution_count": 23,
   "metadata": {
    "collapsed": false
   },
   "outputs": [],
   "source": [
    "def m_g (data , k):\n",
    "    dem = len(data[0])\n",
    "    para_list=[]\n",
    "    for i in range(len(data)//100+5):\n",
    "        c =random.sample(data, k)\n",
    "        pi = ge_pi(k)\n",
    "        cov_l = [ge_cov(dem) for i in range(k)]\n",
    "        while True:\n",
    "            gam = comp_gam(data, c, cov_l, pi)\n",
    "            n_k = [sum(i) for i in gam]\n",
    "            cnew = c_upd(data, gam, n_k)\n",
    "            cov_l = cov_upd(data, c, gam, n_k)\n",
    "            pi = [i/sum(n_k) for i in n_k]\n",
    "            if max([dist(i,j)/(max(ta.mat_dot(i,i)**0.5, 0.00001))  for (i,j) in zip(c, cnew) ]) < 000000.1:\n",
    "                break\n",
    "            c = cnew\n",
    "        para_list.append([c, cov_l, pi])\n",
    "    lh = [lik_hod(data, i[0], i[1], i[2]) for i in para_list]\n",
    "    ind = lh.index(max(lh))\n",
    "    return para_list[ind]"
   ]
  },
  {
   "cell_type": "code",
   "execution_count": 14,
   "metadata": {
    "collapsed": true
   },
   "outputs": [],
   "source": [
    "data_k=ta.gene_random_tensor([1000,2], (-2, 2))\n",
    "data =[]\n",
    "for dk in data_k:\n",
    "    if (dk[0]-1)**2+ dk[1]**2<0.5**2 or (dk[0]+1)**2+ dk[1]**2<0.5**2:\n",
    "        data.append(dk)"
   ]
  },
  {
   "cell_type": "code",
   "execution_count": 25,
   "metadata": {
    "collapsed": false,
    "scrolled": true
   },
   "outputs": [
    {
     "data": {
      "text/plain": [
       "[[[0.82080458908991394, 0.010283837468315786],\n",
       "  [-1.0111601782480102, -0.017749597949407805]],\n",
       " [[[0.068253779943397569, -0.0086736385208092681],\n",
       "   [-0.0086736385208092681, 0.063905896483831701]],\n",
       "  [[0.066793003573036483, 0.00028856499824927133],\n",
       "   [0.00028856499824926976, 0.074762540470991498]]],\n",
       " [0.45903693675346641, 0.54096306324653354]]"
      ]
     },
     "execution_count": 25,
     "metadata": {},
     "output_type": "execute_result"
    }
   ],
   "source": [
    "m_g(data, 2)"
   ]
  }
 ],
 "metadata": {
  "kernelspec": {
   "display_name": "Python 2",
   "language": "python",
   "name": "python2"
  },
  "language_info": {
   "codemirror_mode": {
    "name": "ipython",
    "version": 2
   },
   "file_extension": ".py",
   "mimetype": "text/x-python",
   "name": "python",
   "nbconvert_exporter": "python",
   "pygments_lexer": "ipython2",
   "version": "2.7.13"
  }
 },
 "nbformat": 4,
 "nbformat_minor": 2
}
