{
 "cells": [
  {
   "cell_type": "code",
   "execution_count": 1,
   "metadata": {
    "collapsed": true
   },
   "outputs": [],
   "source": [
    "from __future__ import division\n",
    "import tensor_calculation as t\n",
    "from functools import reduce\n",
    "from collections import Counter"
   ]
  },
  {
   "cell_type": "code",
   "execution_count": 2,
   "metadata": {
    "collapsed": true
   },
   "outputs": [],
   "source": [
    "def list_nu(w, a):\n",
    "    if type(w) != list:\n",
    "        return w*a\n",
    "    else:\n",
    "        return [list_nu(item, a) for item in w]\n",
    "# Multiply every items in list w by number a"
   ]
  },
  {
   "cell_type": "code",
   "execution_count": 3,
   "metadata": {
    "collapsed": true
   },
   "outputs": [],
   "source": [
    "def list_shift(w, a):\n",
    "    if type(w) != list:\n",
    "        return w+a\n",
    "    else:\n",
    "        return [list_shift(item, a) for item in w]\n",
    "# Add every items in list w by number a"
   ]
  },
  {
   "cell_type": "code",
   "execution_count": 1,
   "metadata": {
    "collapsed": true
   },
   "outputs": [],
   "source": [
    "def list_add(w, v):\n",
    "    if type(w) != list and type(w) != list:\n",
    "        return w+v\n",
    "    elif len(w)==len(v):\n",
    "        return [list_add(i, j) for (i, j) in zip(w, v)]\n",
    "    elif w==[] or v == []:\n",
    "        return w+v\n",
    "    else:\n",
    "        print \"can't add different len\""
   ]
  },
  {
   "cell_type": "code",
   "execution_count": 2,
   "metadata": {
    "collapsed": true
   },
   "outputs": [],
   "source": [
    "def list_sub(w, v):\n",
    "    if type(w) != list and type(w) != list:\n",
    "        return w-v\n",
    "    elif len(w)==len(v):\n",
    "        return [list_sub(i, j) for (i, j) in zip(w, v)]\n",
    "    elif v==[]:\n",
    "        return w\n",
    "    else:\n",
    "        print \"can't sub different len\""
   ]
  },
  {
   "cell_type": "code",
   "execution_count": 6,
   "metadata": {
    "collapsed": true
   },
   "outputs": [],
   "source": [
    "def list_muti(w, v):\n",
    "    if type(w) != list and type(w) != list:\n",
    "        return w*v\n",
    "    elif len(w)==len(v):\n",
    "        return [list_muti(i, j) for (i, j) in zip(w, v)]\n",
    "    else:\n",
    "        print \"can't muti different len\""
   ]
  },
  {
   "cell_type": "code",
   "execution_count": 7,
   "metadata": {
    "collapsed": true
   },
   "outputs": [],
   "source": [
    "def list_mu(w):\n",
    "        return reduce(lambda x,y:x*y, w)"
   ]
  },
  {
   "cell_type": "code",
   "execution_count": 8,
   "metadata": {
    "collapsed": true
   },
   "outputs": [],
   "source": [
    "def list_div(w, v):\n",
    "    if type(w) != list and type(w) != list:\n",
    "        return w/v\n",
    "    elif len(w)==len(v):\n",
    "        return [list_div(i, j) for (i, j) in zip(w, v)]\n",
    "    else:\n",
    "        print \"can't div different len\""
   ]
  },
  {
   "cell_type": "code",
   "execution_count": 9,
   "metadata": {
    "collapsed": true
   },
   "outputs": [],
   "source": [
    "def list_sum(w):\n",
    "    return reduce(list_add, w)"
   ]
  },
  {
   "cell_type": "code",
   "execution_count": 10,
   "metadata": {
    "collapsed": true
   },
   "outputs": [],
   "source": [
    "def list_power(w, a):\n",
    "    if type(w) != list:\n",
    "        return w**a\n",
    "    else:\n",
    "        return [list_power(item, a) for item in w]"
   ]
  },
  {
   "cell_type": "code",
   "execution_count": 11,
   "metadata": {
    "collapsed": true
   },
   "outputs": [],
   "source": [
    "def list_max(w):\n",
    "    if type(w) != list:\n",
    "        return w\n",
    "    elif type(w[0]) != list:\n",
    "        return max(w)\n",
    "    else:\n",
    "        return max([list_max(item) for item in w])"
   ]
  },
  {
   "cell_type": "code",
   "execution_count": 12,
   "metadata": {
    "collapsed": false
   },
   "outputs": [],
   "source": [
    "def tensor_struct(tensor): #find the structure of tensor, represented in a list with each element equals to the \n",
    "    if type(tensor[0]) != list:   #dim of the corresponding index \n",
    "        return [len(tensor)]                     \n",
    "    check_list=[tensor_struct(t) for t in tensor]    #check if tensor is indeed a tensor\n",
    "    struct = [len(tensor)]\n",
    "    for c_l in check_list:\n",
    "        if c_l != check_list[0]:\n",
    "            return \"not a tensor\"\n",
    "    struct.extend(check_list[0])\n",
    "    return struct"
   ]
  },
  {
   "cell_type": "code",
   "execution_count": 13,
   "metadata": {
    "collapsed": false
   },
   "outputs": [
    {
     "data": {
      "text/plain": [
       "'not a tensor'"
      ]
     },
     "execution_count": 13,
     "metadata": {},
     "output_type": "execute_result"
    }
   ],
   "source": [
    "tensor_struct([[[[1, 2], [2, 3]], [[2, 3], [3, 4]]], [[[2, 3], [3, 4]], [[3, 4]] ]])"
   ]
  },
  {
   "cell_type": "code",
   "execution_count": 14,
   "metadata": {
    "collapsed": false
   },
   "outputs": [
    {
     "data": {
      "text/plain": [
       "[2, 2, 2, 2]"
      ]
     },
     "execution_count": 14,
     "metadata": {},
     "output_type": "execute_result"
    }
   ],
   "source": [
    "tensor_struct([[[[1, 2], [2, 3]], [[2, 3], [3, 4]]], [[[2, 3], [3, 4]], [[3, 4], [4, 5]]]])"
   ]
  },
  {
   "cell_type": "code",
   "execution_count": 15,
   "metadata": {
    "collapsed": false
   },
   "outputs": [],
   "source": [
    "def n_to_cord(struct, n):  #cord is the set of numbers to locate a element corresponding to the value each index take\n",
    "    if struct ==[]:\n",
    "        return []\n",
    "    if  n>reduce(lambda x, y: x*y, struct)-1:  # if we have [[1,2], [3,4]], cord [0,1] gives 2\n",
    "        return\"n is too big\"\n",
    "    cord = []                                                        \n",
    "    for i in range(len(struct)-1):                             \n",
    "        struct_step = struct[i+1:]\n",
    "        step = reduce(lambda x, y: x*y, struct_step)\n",
    "        cord = cord +[n//step]\n",
    "        n = n%step\n",
    "    cord= cord +[max(n, 0)]\n",
    "    return cord"
   ]
  },
  {
   "cell_type": "code",
   "execution_count": 16,
   "metadata": {
    "collapsed": false
   },
   "outputs": [
    {
     "data": {
      "text/plain": [
       "[1, 1, 1]"
      ]
     },
     "execution_count": 16,
     "metadata": {},
     "output_type": "execute_result"
    }
   ],
   "source": [
    "n_to_cord([2, 2, 3], 10)"
   ]
  },
  {
   "cell_type": "code",
   "execution_count": 17,
   "metadata": {
    "collapsed": false
   },
   "outputs": [
    {
     "data": {
      "text/plain": [
       "[]"
      ]
     },
     "execution_count": 17,
     "metadata": {},
     "output_type": "execute_result"
    }
   ],
   "source": [
    "n_to_cord([], 0)"
   ]
  },
  {
   "cell_type": "code",
   "execution_count": 18,
   "metadata": {
    "collapsed": false
   },
   "outputs": [],
   "source": [
    "def cord_to_n(struct, cord):\n",
    "    if len(struct) != len(cord) :\n",
    "        return \"cord is not equal to struct\"\n",
    "    for (s,c) in zip (struct, cord):\n",
    "        if s<c:\n",
    "            return \"cord is wrong\"\n",
    "    n = 0\n",
    "    for i in range(len(cord)):\n",
    "        base =reduce(lambda x, y: x*y, [struct[len(cord)-j-1] for j in range(len(cord)-i-1)]+[1])\n",
    "        # struct= [4,5,6] when  i =0 base = 5*6 *1      i= 1base = 6*1     i=2 base = 1\n",
    "        n += cord[i]*base\n",
    "    return n"
   ]
  },
  {
   "cell_type": "code",
   "execution_count": 19,
   "metadata": {
    "collapsed": false
   },
   "outputs": [
    {
     "data": {
      "text/plain": [
       "18"
      ]
     },
     "execution_count": 19,
     "metadata": {},
     "output_type": "execute_result"
    }
   ],
   "source": [
    "cord_to_n([2, 3, 5], n_to_cord([2,3, 5], 18))"
   ]
  },
  {
   "cell_type": "code",
   "execution_count": 20,
   "metadata": {
    "collapsed": false
   },
   "outputs": [],
   "source": [
    "def locate_element(tensor, cord):\n",
    "    if len(cord)==1:\n",
    "        return tensor[cord[0]]\n",
    "    else:\n",
    "        c0 = cord[0]\n",
    "        cord.remove(cord[0])\n",
    "        return locate_element(tensor[c0], cord)"
   ]
  },
  {
   "cell_type": "code",
   "execution_count": 21,
   "metadata": {
    "collapsed": false,
    "scrolled": false
   },
   "outputs": [
    {
     "data": {
      "text/plain": [
       "3"
      ]
     },
     "execution_count": 21,
     "metadata": {},
     "output_type": "execute_result"
    }
   ],
   "source": [
    "locate_element([[2,2],[2,3]], [1,1])"
   ]
  },
  {
   "cell_type": "code",
   "execution_count": 22,
   "metadata": {
    "collapsed": false
   },
   "outputs": [],
   "source": [
    "def list_to_tensor(lis,  struct):                            #this is the most important fuction of the whole thing, we can iterate\n",
    "    if struct == [] and len(lis)==1:\n",
    "        return lis\n",
    "    if len(lis) != reduce(lambda x, y: x*y,  struct): #list but can't  iterate tensor . but there is a one to one relation\n",
    "        return \"struct is wrong\"                                    #between a tensor and a list if we consider ordering all the \n",
    "    elif len(struct) ==1:                                               #element in the following way. A[0][*] is before A[1][*] and\n",
    "        return lis                                                    #A[a][0] is befor A[a][i] etc\n",
    "    else:                                                                 #we can then fisrt iterate the list and turn the result back to tensor to\n",
    "        n_s = [struct[i+1] for i in range( len(struct)-1)]  #achive the goal of iterating tensor\n",
    "        step= reduce(lambda x, y: x*y,  n_s)\n",
    "        return [list_to_tensor(lis[i*step:(i+1)*step],  n_s) for i in range(struct[0])]"
   ]
  },
  {
   "cell_type": "code",
   "execution_count": 23,
   "metadata": {
    "collapsed": false
   },
   "outputs": [
    {
     "data": {
      "text/plain": [
       "[[[[1, 2], [3, 4]], [[5, 6], [7, 8]]], [[[1, 2], [3, 4]], [[5, 6], [7, 8]]]]"
      ]
     },
     "execution_count": 23,
     "metadata": {},
     "output_type": "execute_result"
    }
   ],
   "source": [
    "list_to_tensor([1,2,3,4,5,6,7,8,1,2,3,4,5,6,7,8],  [2,2,2,2])"
   ]
  },
  {
   "cell_type": "code",
   "execution_count": 24,
   "metadata": {
    "collapsed": false
   },
   "outputs": [],
   "source": [
    "def tensor_to_list(tensor):                          #A[0][*] is before A[1][*] and A[a][0] is befor A[a][i] etc\n",
    "    if type(tensor[0]) != list :\n",
    "        return tensor\n",
    "    list_ = []\n",
    "    for t in tensor:\n",
    "        list_ += tensor_to_list(t)\n",
    "    return list_"
   ]
  },
  {
   "cell_type": "code",
   "execution_count": 25,
   "metadata": {
    "collapsed": false,
    "scrolled": true
   },
   "outputs": [
    {
     "data": {
      "text/plain": [
       "[1, 2, 3, 4, 5, 6, 7, 8, 1, 2, 3, 4, 5, 6, 7, 8]"
      ]
     },
     "execution_count": 25,
     "metadata": {},
     "output_type": "execute_result"
    }
   ],
   "source": [
    "tensor_to_list([[[[1, 2], [3, 4]], [[5, 6], [7, 8]]], [[[1, 2], [3, 4]], [[5, 6], [7, 8]]]])"
   ]
  },
  {
   "cell_type": "code",
   "execution_count": 26,
   "metadata": {
    "collapsed": false
   },
   "outputs": [],
   "source": [
    "def list_contrac(w, v):   #given two list with same structure return the sum of  product of two corresponding element\n",
    "    if len(w)==len(v):        # design to help buliding contraction fuction but never get used ,but is useful\n",
    "        if type(w[0]) != list and type(v[0]) != list:\n",
    "            return sum([i*j for (i, j) in zip(w, v)])\n",
    "        else:\n",
    "            return sum([list_contrac(i, j) for (i, j) in zip(w, v)])\n",
    "    else:\n",
    "        print \"different len\""
   ]
  },
  {
   "cell_type": "code",
   "execution_count": 27,
   "metadata": {
    "collapsed": false
   },
   "outputs": [
    {
     "data": {
      "text/plain": [
       "408"
      ]
     },
     "execution_count": 27,
     "metadata": {},
     "output_type": "execute_result"
    }
   ],
   "source": [
    "list_contrac([[[[1, 2], [3, 4]], [[5, 6], [7, 8]]], [[[1, 2], [3, 4]], [[5, 6], [7, 8]]]], [[[[1, 2], [3, 4]], [[5, 6], [7, 8]]], [[[1, 2], [3, 4]], [[5, 6], [7, 8]]]] )"
   ]
  },
  {
   "cell_type": "code",
   "execution_count": 28,
   "metadata": {
    "collapsed": false
   },
   "outputs": [],
   "source": [
    "def below_list(list_): #we get a list of index [0,2,1,4,3*** ] and compute the number of element that are smaller than\n",
    "    if len(list_) ==1:    #cutrrent element and put the result into a list\n",
    "        return [0]              #this is so helpfull  for example we contract [ 0,2] then [1,4] but after finishing the first \n",
    "    blist=[0]                        #contraction the index of [1,4]  is wrong. the new  index should be [0, 2]\n",
    "    for i in range(len(list_)-1): # we just need to count the number of index operated on beore but  are smaller than\n",
    "        counter = 0                 #the index we care about. operate index 9 befor 1 is not going to effect index 1\n",
    "        for j in range(i+1):\n",
    "            if list_[i+1]>list_[j]:\n",
    "                counter +=1\n",
    "        blist.append(counter)\n",
    "    return     blist"
   ]
  },
  {
   "cell_type": "code",
   "execution_count": 29,
   "metadata": {
    "collapsed": false
   },
   "outputs": [
    {
     "data": {
      "text/plain": [
       "[0, 1, 2, 3, 4, 5, 6]"
      ]
     },
     "execution_count": 29,
     "metadata": {},
     "output_type": "execute_result"
    }
   ],
   "source": [
    "below_list([1,2,3,4,5,6,7])"
   ]
  },
  {
   "cell_type": "code",
   "execution_count": 30,
   "metadata": {
    "collapsed": true
   },
   "outputs": [],
   "source": [
    "def list_remove_index(list_, remove_index):  #\n",
    "    if len(remove_index) > len(list_):\n",
    "        return \"wrong index\"\n",
    "    list_removed= [ list_[i] for i in remove_index]\n",
    "    bl = below_list( remove_index)\n",
    "    list_remained =[l for l in list_ ]\n",
    "    for  (j,k) in zip (remove_index,  bl):\n",
    "        list_remained.remove(list_remained[j-k])\n",
    "    return[list_remained, list_removed]"
   ]
  },
  {
   "cell_type": "code",
   "execution_count": 31,
   "metadata": {
    "collapsed": false
   },
   "outputs": [
    {
     "data": {
      "text/plain": [
       "[[1, 4, 5], [2, 0, 3]]"
      ]
     },
     "execution_count": 31,
     "metadata": {},
     "output_type": "execute_result"
    }
   ],
   "source": [
    "list_remove_index([0,1,2,3,4,5], [2,0,3])"
   ]
  },
  {
   "cell_type": "code",
   "execution_count": 32,
   "metadata": {
    "collapsed": false
   },
   "outputs": [],
   "source": [
    "def list_put_back(list_0, list_1, index_0, index_1 ):\n",
    "    if len(list_0) != len(index_0)  or len(list_0) != len(index_0):\n",
    "        return \"different lenth\"\n",
    "    if max(Counter(index_0+index_1).values())>1:\n",
    "        return \"wrong index\"\n",
    "    list_=[0 for i in range(max(index_0+index_1)+1 )]      #if index 0145 appears we leave room for 23 which allows list\n",
    "    for j in range(len(index_0)):                                          #to be putted back multiple times\n",
    "        list_[index_0[j]]=list_0[j]\n",
    "    for k in range(len(index_1)):\n",
    "        list_[index_1[k]]=list_1[k]    \n",
    "    return list_"
   ]
  },
  {
   "cell_type": "code",
   "execution_count": 33,
   "metadata": {
    "collapsed": false
   },
   "outputs": [
    {
     "data": {
      "text/plain": [
       "[0, 1, 2, 3, 4, 5]"
      ]
     },
     "execution_count": 33,
     "metadata": {},
     "output_type": "execute_result"
    }
   ],
   "source": [
    "list_put_back([1, 4, 5], [2, 0, 3], [1, 4, 5], [2, 0, 3]  )"
   ]
  },
  {
   "cell_type": "code",
   "execution_count": 34,
   "metadata": {
    "collapsed": false,
    "scrolled": true
   },
   "outputs": [
    {
     "data": {
      "text/plain": [
       "[5, 4, 1]"
      ]
     },
     "execution_count": 34,
     "metadata": {},
     "output_type": "execute_result"
    }
   ],
   "source": [
    "list_put_back([1, 4, 5], [], [2, 1, 0], []  )"
   ]
  },
  {
   "cell_type": "code",
   "execution_count": 35,
   "metadata": {
    "collapsed": false
   },
   "outputs": [],
   "source": [
    "def trace(tensor, u_index, d_index):#trace computation\n",
    "    if len(u_index) != len(d_index):\n",
    "        return \"different lenth\"\n",
    "    struct = tensor_struct(tensor)\n",
    "    index_removed = u_index + d_index\n",
    "    if len(struct)< len(index_removed):\n",
    "        return \"too many index\"\n",
    "    if Counter(index_removed).values() != [1 for i in range(len(index_removed)) ]:\n",
    "        return \"wrong index\"\n",
    "    struct_removed= list_remove_index(struct, index_removed)[1]\n",
    "    struct_removed_u= struct_removed[0: len(u_index)]\n",
    "    struct_removed_d= struct_removed[ len(u_index):]\n",
    "    if struct_removed_u != struct_removed_d:\n",
    "        return \"different structure can't compute trace\"\n",
    "    new_struct= list_remove_index(struct, index_removed)[0]\n",
    "    index_remained = list_remove_index(range( len(struct)), index_removed)[0]\n",
    "    new_list=[]\n",
    "    for j in range(max(reduce(lambda x, y: x*y, new_struct+[1]),   1)  ):\n",
    "        cord=n_to_cord(new_struct, j )\n",
    "        need_to_sum=[]\n",
    "        for k in range( reduce(lambda x, y: x*y, struct_removed_u)  ):             #for trace we need add a lot of things\n",
    "            cord_u=n_to_cord(struct_removed_u, k )\n",
    "            cord_u_d = cord_u+ cord_u\n",
    "            for cu in cord_u:\n",
    "                cord_u_d.extend([cu, cu])\n",
    "            whole_cord = list_put_back(cord, cord_u_d, index_remained, index_removed )\n",
    "            need_to_sum.append( locate_element(tensor, whole_cord))\n",
    "        new_list.append(sum(need_to_sum) )\n",
    "    return list_to_tensor(new_list, new_struct)       "
   ]
  },
  {
   "cell_type": "code",
   "execution_count": 36,
   "metadata": {
    "collapsed": false
   },
   "outputs": [
    {
     "data": {
      "text/plain": [
       "[[3, 3], [3, 3]]"
      ]
     },
     "execution_count": 36,
     "metadata": {},
     "output_type": "execute_result"
    }
   ],
   "source": [
    "trace([ [[[1,2,1], [2,1,1], [1,1,1]], [[1,2,1], [2,1,1], [1,1,1]] ],    [[[1,2,1], [2,1,1], [1,1,1]], [[1,2,1], [2,1,1], [1,1,1]] ] ], [2],[3] )"
   ]
  },
  {
   "cell_type": "code",
   "execution_count": 37,
   "metadata": {
    "collapsed": false
   },
   "outputs": [
    {
     "data": {
      "text/plain": [
       "[4]"
      ]
     },
     "execution_count": 37,
     "metadata": {},
     "output_type": "execute_result"
    }
   ],
   "source": [
    "trace([[1,0,0,0], [0,1,0,0], [0,0,1,0], [0,0,0,1] ], [0],[1] )"
   ]
  },
  {
   "cell_type": "code",
   "execution_count": 38,
   "metadata": {
    "collapsed": true
   },
   "outputs": [],
   "source": [
    "def direct_product(w, v):\n",
    "    list_w = tensor_to_list(w)\n",
    "    list_v = tensor_to_list(v)\n",
    "    struct_w = tensor_struct(w)\n",
    "    struct_v = tensor_struct(v)\n",
    "    lenth_w =reduce( lambda x,y: x*y , struct_w)\n",
    "    lenth_v =reduce( lambda x,y: x*y , struct_v)\n",
    "    struct = struct_w+struct_v\n",
    "    list_= []\n",
    "    for i in range(lenth_w* lenth_v):\n",
    "        cord = n_to_cord (struct, i)\n",
    "        cord_w = cord[0: len(struct_w)]\n",
    "        cord_v = cord[len(struct_w):]\n",
    "        list_.append(locate_element(w, cord_w)*locate_element(v, cord_v) )\n",
    "    tensor = list_to_tensor( list_, struct )\n",
    "    return tensor"
   ]
  },
  {
   "cell_type": "code",
   "execution_count": 39,
   "metadata": {
    "collapsed": false
   },
   "outputs": [
    {
     "data": {
      "text/plain": [
       "[[[[[[4, 4], [4, 4]], [[4, 4], [4, 4]]], [[[4, 4], [4, 4]], [[4, 4], [4, 4]]]],\n",
       "  [[[[4, 4], [4, 4]], [[4, 4], [4, 4]]],\n",
       "   [[[4, 4], [4, 4]], [[4, 4], [4, 4]]]]],\n",
       " [[[[[4, 4], [4, 4]], [[4, 4], [4, 4]]], [[[4, 4], [4, 4]], [[4, 4], [4, 4]]]],\n",
       "  [[[[4, 4], [4, 4]], [[4, 4], [4, 4]]],\n",
       "   [[[4, 4], [4, 4]], [[4, 4], [4, 4]]]]]]"
      ]
     },
     "execution_count": 39,
     "metadata": {},
     "output_type": "execute_result"
    }
   ],
   "source": [
    "direct_product([[[2,2], [2,2]],  [[2,2], [2,2]]], [[[2,2], [2,2]],  [[2,2], [2,2]]])"
   ]
  },
  {
   "cell_type": "code",
   "execution_count": 40,
   "metadata": {
    "collapsed": true
   },
   "outputs": [],
   "source": [
    "def tensor_contrac(w, v, cw, cv):\n",
    "        if len(cw) != len(cv):\n",
    "            return \"wrong index\"\n",
    "        struct_w = tensor_struct(w)\n",
    "        struct_v = tensor_struct(v)\n",
    "        struct_w_contrac = list_remove_index(struct_w, cw)[1]\n",
    "        struct_v_contrac = list_remove_index(struct_v, cv)[1]\n",
    "        if struct_w_contrac != struct_v_contrac:\n",
    "            return \"different structure can't do the contraction\"\n",
    "        struct_w_remained = list_remove_index(struct_w, cw)[0]\n",
    "        struct_v_remained  = list_remove_index(struct_v, cv)[0] \n",
    "        index_w_remained = list_remove_index(range(len(struct_w)), cw)[0]\n",
    "        index_v_remained = list_remove_index(range(len(struct_v)), cv)[0]\n",
    "        new_struct=struct_w_remained+struct_v_remained\n",
    "        list_=[]\n",
    "        for i in range(max(reduce(lambda x, y: x*y, new_struct+[1]),   1) ):\n",
    "            list_contrac = []\n",
    "            cord = n_to_cord(new_struct, i)\n",
    "            cord_w_remained = cord[0:len(struct_w_remained)+1 ]\n",
    "            cord_v_remained = cord[len(struct_w_remained): ]\n",
    "            for j in range(reduce(lambda x, y: x*y, struct_w_contrac)):    \n",
    "                cord_contract = n_to_cord(struct_w_contrac, j)\n",
    "                cord_w =  list_put_back(cord_contract ,cord_w_remained ,cw,  index_w_remained)\n",
    "                cord_v =  list_put_back(cord_contract ,cord_v_remained ,cv,  index_v_remained)\n",
    "                list_contrac.append(locate_element(w, cord_w)* locate_element(v, cord_v))\n",
    "            list_.append(sum(list_contrac) )\n",
    "        return list_to_tensor(list_, new_struct)"
   ]
  },
  {
   "cell_type": "code",
   "execution_count": 41,
   "metadata": {
    "collapsed": false,
    "scrolled": true
   },
   "outputs": [
    {
     "data": {
      "text/plain": [
       "[173880]"
      ]
     },
     "execution_count": 41,
     "metadata": {},
     "output_type": "execute_result"
    }
   ],
   "source": [
    "sy1= list_to_tensor(range(3*3*3*3),  [3,3,3,3])\n",
    "sy2= list_to_tensor(range(3*3*3*3),  [3,3,3,3])\n",
    "tensor_contrac(sy1, sy2, [0,3,1,2], [0,3,1,2])"
   ]
  },
  {
   "cell_type": "code",
   "execution_count": 42,
   "metadata": {
    "collapsed": false,
    "scrolled": true
   },
   "outputs": [
    {
     "data": {
      "text/plain": [
       "173880"
      ]
     },
     "execution_count": 42,
     "metadata": {},
     "output_type": "execute_result"
    }
   ],
   "source": [
    "list_contrac(sy1, sy2)#seems right"
   ]
  },
  {
   "cell_type": "code",
   "execution_count": 58,
   "metadata": {
    "collapsed": false
   },
   "outputs": [],
   "source": [
    "def transp(tensor, index): #rearrange the index from [0,1,2^^^] to [2,1,0^^^] \n",
    "    struct = tensor_struct(tensor)\n",
    "    if len(struct) != len(index):            \n",
    "        return \"index is wrong\"\n",
    "    new_struct = list_put_back(struct, [], index, []  )\n",
    "    list_=tensor_to_list(tensor)           \n",
    "    new_list=[0 for i in range(len(list_))]   # a old cord[c1, c1, c2 ] will be [c2, c1, c0 ] after the transpose\n",
    "    for i in range(len(list_)):               \n",
    "        cord = n_to_cord(struct ,i)\n",
    "        new_cord = list_put_back(cord, [], index, []  )\n",
    "        new_i = cord_to_n(new_struct, new_cord)\n",
    "        new_list[new_i] = list_[i]\n",
    "    new_tensor = list_to_tensor(new_list, new_struct)\n",
    "    return new_tensor"
   ]
  },
  {
   "cell_type": "code",
   "execution_count": 59,
   "metadata": {
    "collapsed": false
   },
   "outputs": [
    {
     "data": {
      "text/plain": [
       "[[1, 3, 5, 9], [2, 4, 6, 5]]"
      ]
     },
     "execution_count": 59,
     "metadata": {},
     "output_type": "execute_result"
    }
   ],
   "source": [
    "transp([ [1,2],  [3,4], [5,6], [9,5] ], [1,0])"
   ]
  },
  {
   "cell_type": "code",
   "execution_count": 144,
   "metadata": {
    "collapsed": false
   },
   "outputs": [],
   "source": [
    "def get_tensor(tensor, index, cord):# to get A[1][*][*][5] for example get_tensor(A, [0,3], [1,5])\n",
    "    if len(index) != len(cord):\n",
    "        return \"index is wrong\"\n",
    "    for i in range( len(index) ):\n",
    "        if index[i] == 0:\n",
    "            if len(index) ==1:\n",
    "                return tensor[cord[i]]\n",
    "            cord_0 = cord[i]\n",
    "            index.remove(index[i])\n",
    "            new_index = list_shift(index, -1)\n",
    "            cord.remove(cord[i])\n",
    "            return get_tensor(tensor[cord_0], new_index, cord)\n",
    "    struct = tensor_struct( tensor)\n",
    "    index_remained= list_remove_index(range( len( struct) ), index)[0]\n",
    "    struct_remained= list_remove_index(struct, index)[0]\n",
    "    list_=[]\n",
    "    for j in range(reduce(lambda x,y :x*y  , struct_remained) ):\n",
    "        cord_remained = n_to_cord(struct_remained, j)\n",
    "        whole_cord=list_put_back(cord_remained,  cord, index_remained,  index)\n",
    "        list_.append(locate_element(tensor,  whole_cord) )\n",
    "    return list_to_tensor(list_, struct_remained)"
   ]
  },
  {
   "cell_type": "code",
   "execution_count": 145,
   "metadata": {
    "collapsed": false
   },
   "outputs": [
    {
     "data": {
      "text/plain": [
       "[196, 225]"
      ]
     },
     "execution_count": 145,
     "metadata": {},
     "output_type": "execute_result"
    }
   ],
   "source": [
    "get_tensor(sy1, [0,2,1], [1,1,1])#seems to be working but not sure it's correct"
   ]
  },
  {
   "cell_type": "code",
   "execution_count": 146,
   "metadata": {
    "collapsed": false,
    "scrolled": false
   },
   "outputs": [
    {
     "data": {
      "text/plain": [
       "[3, 4]"
      ]
     },
     "execution_count": 146,
     "metadata": {},
     "output_type": "execute_result"
    }
   ],
   "source": [
    "get_tensor([[1,2], [3,4]], [0], [1])"
   ]
  }
 ],
 "metadata": {
  "kernelspec": {
   "display_name": "Python 2",
   "language": "python",
   "name": "python2"
  },
  "language_info": {
   "codemirror_mode": {
    "name": "ipython",
    "version": 2
   },
   "file_extension": ".py",
   "mimetype": "text/x-python",
   "name": "python",
   "nbconvert_exporter": "python",
   "pygments_lexer": "ipython2",
   "version": "2.7.13"
  }
 },
 "nbformat": 4,
 "nbformat_minor": 2
}
