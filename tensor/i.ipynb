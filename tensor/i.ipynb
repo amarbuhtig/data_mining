{
 "cells": [
  {
   "cell_type": "code",
   "execution_count": 20,
   "metadata": {
    "collapsed": true
   },
   "outputs": [],
   "source": [
    "from __future__ import division\n",
    "from math import atan2, sin, cos"
   ]
  },
  {
   "cell_type": "code",
   "execution_count": null,
   "metadata": {
    "collapsed": true
   },
   "outputs": [],
   "source": [
    "#a imaginary numbers Class"
   ]
  },
  {
   "cell_type": "code",
   "execution_count": 42,
   "metadata": {
    "collapsed": true
   },
   "outputs": [],
   "source": [
    "class Ima():\n",
    "    def __init__(self, re, im):\n",
    "        self.re = re\n",
    "        self.im = im\n",
    "        \n",
    "    def __repr__(self):\n",
    "        if self.im>0:\n",
    "            return \"%r+%ri\"%(self.re ,self.im)\n",
    "        elif self.im<0:\n",
    "            return \"%r-%ri\"%(self.re ,abs(self.im))\n",
    "        else:\n",
    "            return \"%r\" %(self.re)\n",
    "    \n",
    "    def __add__(self, other):\n",
    "        if isinstance(other, Ima):\n",
    "            return Ima(self.re+ other.re, self.im+ other.im)\n",
    "        else:\n",
    "            return self+Ima(other, 0)\n",
    "\n",
    "    def __radd__(self, other):\n",
    "        return self+other\n",
    "          \n",
    "    def __mul__(self, other):\n",
    "        if isinstance(other, Ima):\n",
    "            return Ima(self.re*other.re-self.im*other.im, self.re*other.im+self.im*other.re)\n",
    "        else:\n",
    "            return self*Ima(other, 0)\n",
    "        \n",
    "    def __rmul__(self, other):\n",
    "        return self*other\n",
    "    \n",
    "    def __sub__(self, other):\n",
    "        if isinstance(other, Ima):\n",
    "            return Ima(self.re- other.re, self.im- other.im)\n",
    "        else:\n",
    "            return self-Ima(other, 0)\n",
    "\n",
    "    def __rsub__(self, other):\n",
    "        if isinstance(other, Ima):\n",
    "            return other - self\n",
    "        else:\n",
    "            return Ima(other,0)-self\n",
    "        \n",
    "    def __neg__(self):\n",
    "        return Ima(-self.re, -self.im)\n",
    "        \n",
    "    def __truediv__(self, other):               #__future__.division is active\n",
    "        if other ==0:\n",
    "            return \"wrong\"\n",
    "        if isinstance(other, Ima):\n",
    "            m = (self.im*other.re-self.re*other.im)/(other.re**2+other.im**2)\n",
    "            return Ima((self.re*other.re+self.im*other.im)/(other.re**2+other.im**2) , m)\n",
    "        else:\n",
    "            return self/Ima(other, 0)\n",
    "        \n",
    "    def __rtruediv__(self, other):                 #__future__.division is active\n",
    "        if isinstance(other, Ima):\n",
    "            return other/self\n",
    "        else:\n",
    "            return Ima(other,0)/self\n",
    "    \n",
    "    def __abs__(self):\n",
    "        return (self.re**2+ self.im**2)**(1/2)\n",
    "        \n",
    "    def rad(self):\n",
    "        return atan2(self.im, self.re)\n",
    "    \n",
    "    def __pow__(self, other):\n",
    "        abs_ = abs(self)\n",
    "        ra = self.rad()\n",
    "        return Ima(abs_**other*cos(ra*other), abs_**other*sin(ra*other) )       "
   ]
  }
 ],
 "metadata": {
  "kernelspec": {
   "display_name": "Python 2",
   "language": "python",
   "name": "python2"
  },
  "language_info": {
   "codemirror_mode": {
    "name": "ipython",
    "version": 2
   },
   "file_extension": ".py",
   "mimetype": "text/x-python",
   "name": "python",
   "nbconvert_exporter": "python",
   "pygments_lexer": "ipython2",
   "version": "2.7.13"
  }
 },
 "nbformat": 4,
 "nbformat_minor": 2
}
