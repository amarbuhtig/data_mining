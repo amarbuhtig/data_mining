{
 "cells": [
  {
   "cell_type": "code",
   "execution_count": 8,
   "metadata": {
    "collapsed": false
   },
   "outputs": [],
   "source": [
    "from __future__ import division\n",
    "import tensor_calculation as t\n",
    "from i import Ima\n",
    "from collections import Counter\n",
    "import random\n",
    "from math import exp\n",
    "from math import log\n",
    "import timeit"
   ]
  },
  {
   "cell_type": "code",
   "execution_count": 9,
   "metadata": {
    "collapsed": true
   },
   "outputs": [],
   "source": [
    "def gene_random_tensor(struct, (a,b)): \n",
    "    if type(struct) != list:\n",
    "        \"struct must be a tensor\"\n",
    "    elif len(struct) == 1:\n",
    "        return [random.uniform(a,b) for i in range(struct[0])]\n",
    "    else:\n",
    "        return[gene_random_tensor(struct[1:], (a,b)) for i in range(struct[0])]"
   ]
  },
  {
   "cell_type": "code",
   "execution_count": 10,
   "metadata": {
    "collapsed": true
   },
   "outputs": [],
   "source": [
    "def gene_blank_tensor(struct):\n",
    "    if type(struct) != list:\n",
    "        \"struct must be a tensor\"\n",
    "    elif len(struct) == 1:\n",
    "        return [0 for i in range(struct[0])]\n",
    "    else:\n",
    "        return[gene_blank_tensor(struct[1:]) for i in range(struct[0])]"
   ]
  },
  {
   "cell_type": "code",
   "execution_count": 11,
   "metadata": {
    "collapsed": true
   },
   "outputs": [],
   "source": [
    "def sig (list_):       #given the sign of a permutation\n",
    "    if len(list_) ==1:\n",
    "        return 1\n",
    "    counter = 0\n",
    "    for i in range(len(list_) -1):\n",
    "        for j in range(i+1):\n",
    "            if list_[i+1]<list_[j]:\n",
    "                counter += 1\n",
    "    return (-1)**counter       "
   ]
  },
  {
   "cell_type": "code",
   "execution_count": 12,
   "metadata": {
    "collapsed": false
   },
   "outputs": [],
   "source": [
    "def gk_delta(lenth, dim):                      #generalized Kronecker delta, used to compute determinant\n",
    "    struct = [dim for j in range(2*lenth)]           \n",
    "    bl = [0 for k in range(dim**(2*lenth))]\n",
    "    for i in range(len(bl)):\n",
    "        whole_cord = t.n_to_cord(struct, i)\n",
    "        u_cord=whole_cord[0:lenth]\n",
    "        d_cord=whole_cord[lenth:]\n",
    "        if max(Counter(u_cord).values())>1 or max(Counter(d_cord).values() )>1\\\n",
    "            or  Counter(u_cord).keys() != Counter(d_cord).keys(): \n",
    "            continue  \n",
    "        bl[i] = sig(u_cord)*sig(d_cord)\n",
    "    return t.list_to_tensor(bl, struct)"
   ]
  },
  {
   "cell_type": "code",
   "execution_count": 13,
   "metadata": {
    "collapsed": false,
    "scrolled": true
   },
   "outputs": [],
   "source": [
    "def matrix_adj(A ,i,j):   #use recursion to compute determinant instead of generalized Kronecker delta\n",
    "    if len(A) == 1:\n",
    "        return A\n",
    "    b=  A[0:i]+A[i+1:]\n",
    "    return [ be[0:j]+be[j+1:] for be in b]"
   ]
  },
  {
   "cell_type": "code",
   "execution_count": 14,
   "metadata": {
    "collapsed": false
   },
   "outputs": [],
   "source": [
    "def det(a): #determinant\n",
    "    if len(a) ==1:\n",
    "        return a[0][0]\n",
    "    return sum([a[0][i]*((-1)**i )*det( matrix_adj(a ,0,i) )  for i in range(len(a)) ] )"
   ]
  },
  {
   "cell_type": "code",
   "execution_count": 15,
   "metadata": {
    "collapsed": true
   },
   "outputs": [],
   "source": [
    "def matrix_inver(a):  #inverse of a matrix\n",
    "    if len(a) !=len(a[0]):\n",
    "        return \"not a squire matrix\"\n",
    "    if len(a) ==1 and len(a[0]) ==1:\n",
    "        return[[1/a[0][0]]]\n",
    "    b = []\n",
    "    for i in range(len(a)):\n",
    "        b.append([t.list_nu(det(matrix_adj(a, i,j) ), (-1)**(i +j)   )  for j in range(len(a[0])) ] )\n",
    "    return t.list_nu(t.transp(b, [1,0]), 1/det(a)) "
   ]
  },
  {
   "cell_type": "code",
   "execution_count": 16,
   "metadata": {
    "collapsed": true
   },
   "outputs": [],
   "source": [
    "def colu_fi(list_):  #transform a vector to a matrix\n",
    "    if type(list_[0]) == list:\n",
    "        return \"not a vector\"\n",
    "    return[[i] for i in list_ ]"
   ]
  },
  {
   "cell_type": "code",
   "execution_count": 17,
   "metadata": {
    "collapsed": false
   },
   "outputs": [],
   "source": [
    "def mat_dot1(a,b): #performance is not good\n",
    "    if len(t.tensor_struct(a))>1:\n",
    "        return t.tensor_contrac(a, b ,[1], [0])\n",
    "    else:\n",
    "        return t.tensor_contrac(a, b ,[0], [0])"
   ]
  },
  {
   "cell_type": "code",
   "execution_count": 18,
   "metadata": {
    "collapsed": true
   },
   "outputs": [],
   "source": [
    "def mat_dot(a,b):  \n",
    "    if type(a[0]) != list and type(b[0]) != list:\n",
    "        return t.list_contrac(a,b)\n",
    "    elif type(b[0]) != list:\n",
    "        return [t.list_contrac(i,b) for i in a]\n",
    "    elif type(a[0]) != list:\n",
    "        return [sum([a[i]*b[i][j]  for i in range(len(b))])  for j in range(len(b[0]))]\n",
    "    else:\n",
    "        return [mat_dot(k,b) for k in a ]"
   ]
  },
  {
   "cell_type": "code",
   "execution_count": 19,
   "metadata": {
    "collapsed": false
   },
   "outputs": [],
   "source": [
    "#q =timeit.Timer(\"mat_dot([[1,2], [3,4]],[[1,2], [3,4]])\",\"from __main__ import mat_dot\")\n",
    "#q1 = timeit.Timer(\"mat_dot1([[1,2], [3,4]],[[1,2], [3,4]])\",\"from __main__ import mat_dot1\")"
   ]
  },
  {
   "cell_type": "code",
   "execution_count": 20,
   "metadata": {
    "collapsed": false
   },
   "outputs": [],
   "source": [
    "#q.timeit(1001)"
   ]
  },
  {
   "cell_type": "code",
   "execution_count": 21,
   "metadata": {
    "collapsed": false
   },
   "outputs": [],
   "source": [
    "#q1.timeit(1001)"
   ]
  },
  {
   "cell_type": "code",
   "execution_count": 22,
   "metadata": {
    "collapsed": false
   },
   "outputs": [],
   "source": [
    "def mat_transp(m):  #transpose of a matrix\n",
    "    if type(m[0]) != list:\n",
    "        return mat_transp([m])\n",
    "    return [[m[j][i] for j in range(len(m))] for i in range(len(m[0]))]"
   ]
  },
  {
   "cell_type": "code",
   "execution_count": 23,
   "metadata": {
    "collapsed": false
   },
   "outputs": [],
   "source": [
    "def eigen_valu1(a):   #using Aberth method, can't figure out the best way to initialize\n",
    "    if len(a) != len(a[0]):\n",
    "        return \"not a square matrix\"\n",
    "    I = [[1 if i ==j else 0 for i in range(len(a)) ]for j in range(len(a)) ]\n",
    "    def eigen_ma(x):\n",
    "        return t.list_add(a, t.list_nu(I, -x))\n",
    "    def de_eipo(x):\n",
    "        return -1*sum([det(matrix_adj(eigen_ma(x), i,i)) for i in range(len(a))])\n",
    "    def pp (list_):\n",
    "        return  [de_eipo(x)/det(eigen_ma(x)) for x in list_]\n",
    "    def inter(root):\n",
    "        list_=[[root[i]-j for j in root[:i]+root[i+1:]] for i in range(len(root))]\n",
    "        list_1=[reduce(lambda x,y: x*y, k) for k in list_]\n",
    "        return t.list_power(list_1, -1)\n",
    "    #if len(a)%2 ==0:\n",
    "        #root = [random.uniform(i*10, i*10 +10) for i in range(len(a)//2)]\\\n",
    "            #+[random.uniform(-j*10-10, -j*10 -20) for j in range(len(a)//2)]\n",
    "    #else:\n",
    "        #root = [random.uniform(i*5, i*5 +5) for i in range(len(a)//2)]\\\n",
    "                #+[random.uniform(-j*5-5, -j*5 -10) for j in range(len(a)-len(a)//2)]\n",
    "    root = [-1,1, Ima(0,1)]\n",
    "    while True:\n",
    "        new_root = t.list_sub(root, t.list_power(t.list_sub(pp(root), inter(root)),-1))\n",
    "        root = new_root\n",
    "        #print [det(eigen_ma(x)) for x in root]\n",
    "        #print [det(eigen_ma(x)) for x in root]\n",
    "        ##print root\n",
    "        if max([abs(det(eigen_ma(x))) for x in root])<0.0000001:\n",
    "            break\n",
    "    return root,max([det(eigen_ma(x)) for x in root])"
   ]
  },
  {
   "cell_type": "code",
   "execution_count": 24,
   "metadata": {
    "collapsed": false
   },
   "outputs": [],
   "source": [
    "def eigen_valu(a):   #using newton, one root at a time, good for imaginary root\n",
    "    if len(a) != len(a[0]):\n",
    "        return \"not a square matrix\"\n",
    "    I = [[1 if i ==j else 0 for i in range(len(a)) ]for j in range(len(a)) ]\n",
    "    def eig_ma(x):\n",
    "        return t.list_add(a, t.list_nu(I, -x))\n",
    "    def de_eipo(x):\n",
    "        return -1*sum([det(matrix_adj(eig_ma(x), i,i)) for i in range(len(a))])\n",
    "    def p(root, x):\n",
    "        if root==[]:\n",
    "            return det( eig_ma(x))\n",
    "        else:\n",
    "            return det( eig_ma(x))/t.list_mu(t.list_shift(root, -x))\n",
    "    def de_p(root, x):\n",
    "        if root==[]:\n",
    "            return de_eipo(x)\n",
    "        else:\n",
    "            pl=[det( eig_ma(x)) ]+t.list_power(t.list_shift(root, -x), -1)\n",
    "            de_pl = [de_eipo(x)]+t.list_power(t.list_shift(root, -x), -2)\n",
    "            return sum([t.list_mu(pl[:i]+[de_pl[i]]+pl[i+1:]) for i in range(len(pl))] )\n",
    "    root = []\n",
    "    while True:\n",
    "        x = Ima(random.uniform(-10, 10), random.uniform(-10, 10))\n",
    "        while True:\n",
    "            x = x- p(root, x)/de_p(root, x)\n",
    "            if abs( det(eig_ma(x))) < 0.000000001:\n",
    "                break \n",
    "        root.append(x)\n",
    "        if len(root) == len(a):\n",
    "            break\n",
    "    return sorted(root, reverse=True, key = lambda x: x.re)"
   ]
  },
  {
   "cell_type": "code",
   "execution_count": 25,
   "metadata": {
    "collapsed": false
   },
   "outputs": [
    {
     "data": {
      "text/plain": [
       "[20.0+2.541098841762901e-21i,\n",
       " 2.5568360304228713e-06+6.432722921332875e-07i,\n",
       " -2.281771708992743e-06-5.54344357836566e-07i,\n",
       " -4.000000000000028-8.990679335035416e-14i]"
      ]
     },
     "execution_count": 25,
     "metadata": {},
     "output_type": "execute_result"
    }
   ],
   "source": [
    "eigen_valu([[1,2,3,4], [5,6,7,8], [9, 8 ,7, 6], [ 5, 4, 3, 2]])"
   ]
  },
  {
   "cell_type": "code",
   "execution_count": 26,
   "metadata": {
    "collapsed": false
   },
   "outputs": [
    {
     "data": {
      "text/plain": [
       "[0.5000000000000151-0.8660254037844319i,\n",
       " 0.49999999999998845+0.866025403784425i]"
      ]
     },
     "execution_count": 26,
     "metadata": {},
     "output_type": "execute_result"
    }
   ],
   "source": [
    "eigen_valu([[1/2, 3**(1/2)/2],[-(3**(1/2)/2), 1/2]])"
   ]
  },
  {
   "cell_type": "code",
   "execution_count": 27,
   "metadata": {
    "collapsed": true
   },
   "outputs": [],
   "source": [
    "def eigen_vec(a, ev):\n",
    "    I = [[1 if i ==j else 0 for i in range(len(a)) ]for j in range(len(a)) ]\n",
    "    def eig_ma(x):\n",
    "        return t.list_add(a, t.list_nu(I, -x))\n",
    "    vec = []\n",
    "    for v in sorted(Counter(ev).keys(), reverse=True):\n",
    "        b =eig_ma(v)\n",
    "        for i in range(len(b)):\n",
    "            b = matrix_adj(b ,len(b)-1,len(b)-1)\n",
    "            if abs(det(b)) > 0.000000001:\n",
    "                c= [j[len(eig_ma(v))-i-1:] for j in eig_ma(v)[:len(eig_ma(v))-1-i] ]  #first slice from top then from bottom\n",
    "                break                                                                #c has structure [ len(a)-i-1,i+1]\n",
    "        x_free = [[1 if k==j else 0 for k in range(i+1) ]for j in range(i+1) ]\n",
    "        x_rem= [mat_dot(matrix_inver(b) , t.list_nu(mat_dot(c, x), -1)) for x in x_free]\n",
    "        vec.extend([xr+xf for (xr,xf) in zip(x_rem, x_free) ])\n",
    "    return vec"
   ]
  },
  {
   "cell_type": "code",
   "execution_count": 28,
   "metadata": {
    "collapsed": false
   },
   "outputs": [
    {
     "data": {
      "text/plain": [
       "[[0.7560975609756098, 1.926829268292683, 2.1707317073170733, 1],\n",
       " [1.0, -2.0, 1, 0],\n",
       " [2.0, -3.0, 0, 1],\n",
       " [-1.0, -1.0, 1.0, 1]]"
      ]
     },
     "execution_count": 28,
     "metadata": {},
     "output_type": "execute_result"
    }
   ],
   "source": [
    "eigen_vec([[1,2,3,4], [5,6,7,8], [9, 8 ,7, 6], [ 5, 4, 3, 2]],[20, -4, 0,0])"
   ]
  },
  {
   "cell_type": "code",
   "execution_count": 29,
   "metadata": {
    "collapsed": false
   },
   "outputs": [],
   "source": [
    "ff=mat_dot([[1,2,3,4], [5,6,7,8], [9, 8 ,7, 6], [ 5, 4, 3, 2]], t.transp([[1.0, -2.0, 1, 0],\n",
    " [2.0, -3.0, 0, 1],\n",
    " [-1.0, -1.0, 1.0, 1],\n",
    " [0.7560975609756098, 1.926829268292683, 2.1707317073170733, 1]], [1,0]))"
   ]
  },
  {
   "cell_type": "code",
   "execution_count": 30,
   "metadata": {
    "collapsed": false
   },
   "outputs": [],
   "source": [
    "gg =matrix_inver(t.transp([[1.0, -2.0, 1, 0],\n",
    " [2.0, -3.0, 0, 1],\n",
    " [-1.0, -1.0, 1.0, 1],\n",
    " [0.7560975609756098, 1.926829268292683, 2.1707317073170733, 1]], [1,0]))"
   ]
  },
  {
   "cell_type": "code",
   "execution_count": 31,
   "metadata": {
    "collapsed": false
   },
   "outputs": [
    {
     "data": {
      "text/plain": [
       "[[0.0, 0.0, 0.0, -1.7763568394002505e-15],\n",
       " [0.0, 0.0, 0.0, 0.0],\n",
       " [0.0, 0.0, -4.0, -2.6645352591003757e-15],\n",
       " [0.0, 0.0, 0.0, 20.000000000000004]]"
      ]
     },
     "execution_count": 31,
     "metadata": {},
     "output_type": "execute_result"
    }
   ],
   "source": [
    "mat_dot(gg, ff)"
   ]
  },
  {
   "cell_type": "code",
   "execution_count": 32,
   "metadata": {
    "collapsed": false
   },
   "outputs": [],
   "source": [
    "def antisym_fi( tensor, index):\n",
    "    struct = t.tensor_struct(tensor)\n",
    "    if len(Counter([struct[ind] for ind in index ] ).keys() ) != 1:\n",
    "        return \"wrong index\"\n",
    "    kd = gk_delta(len(index), struct[index[0]])\n",
    "    T= t.tensor_contrac(tensor, kd, index, range(len(index)))\n",
    "    return t.list_nu(T, 1/reduce(lambda x,y: x*y, [i+1 for i in range(len(index)) ])  )"
   ]
  },
  {
   "cell_type": "code",
   "execution_count": 33,
   "metadata": {
    "collapsed": true
   },
   "outputs": [],
   "source": [
    "def tol_sym_tensor(lenth, dim):                      # total smmetric tensor\n",
    "    struct = [dim for j in range(2*lenth)]           # =1 if the up index is the arrangement \n",
    "    bl = [0 for k in range(dim**(2*lenth))]\n",
    "    def factorial(n):\n",
    "        return reduce(lambda x,y: x*y, [i+1 for i in range(n) ]) \n",
    "    for i in range(len(bl)):\n",
    "        whole_cord = t.n_to_cord(struct, i)\n",
    "        u_cord=whole_cord[0:lenth]\n",
    "        d_cord=whole_cord[lenth:]\n",
    "        if  Counter(u_cord).keys() != Counter(d_cord).keys(): \n",
    "            continue  \n",
    "        if max(Counter(u_cord).values()) ==1:\n",
    "            bl[i] = 1\n",
    "        else:\n",
    "            factor = Counter(u_cord).values()\n",
    "            facfac=[factorial(j) for j in factor]\n",
    "            bl[i] =reduce(lambda x,y: x*y, facfac) \n",
    "    return t.list_to_tensor(bl, struct)"
   ]
  },
  {
   "cell_type": "code",
   "execution_count": 34,
   "metadata": {
    "collapsed": true
   },
   "outputs": [],
   "source": [
    "def tol_sym_fi( tensor, index):\n",
    "    struct = t.tensor_struct(tensor)\n",
    "    if len(Counter([struct[ind] for ind in index ] ).keys() ) != 1:\n",
    "        return \"wrong index\"\n",
    "    st = tol_sym_tensor(len(index), struct[index[0]])\n",
    "    T= t.tensor_contrac(tensor, st, index, range(len(index)))\n",
    "    return t.list_nu(T, 1/reduce(lambda x,y: x*y, [i+1 for i in range(len(index)) ])  )"
   ]
  },
  {
   "cell_type": "code",
   "execution_count": 46,
   "metadata": {
    "collapsed": false
   },
   "outputs": [],
   "source": [
    "def softmax(list_):\n",
    "    if type(list_) != list:\n",
    "        return \"must be a list not\", type(list_)\n",
    "    new_list = t.list_shift(list_, -max(list_) )\n",
    "    try: l= t.list_nu([ exp(l) for l in new_list], 1/sum([ exp(l) for l in new_list] ) )\n",
    "    except OverflowError:\n",
    "         print list_\n",
    "    return [ i if i!=0 else 0.00000000000001 for i in  l]"
   ]
  },
  {
   "cell_type": "code",
   "execution_count": 38,
   "metadata": {
    "collapsed": true
   },
   "outputs": [],
   "source": [
    "def make_mat(u,v):\n",
    "    return mat_dot(colu_fi(u), [v])"
   ]
  },
  {
   "cell_type": "code",
   "execution_count": 49,
   "metadata": {
    "collapsed": true
   },
   "outputs": [],
   "source": [
    "def de_softmax(list_):\n",
    "    lis = softmax(list_)\n",
    "    first_m=gene_blank_tensor([len(list_), len(list_)])\n",
    "    for i in range(len(list_)):\n",
    "        first_m[i][i] = lis[i]\n",
    "    return t.list_sub(first_m, make_mat(lis, lis))"
   ]
  },
  {
   "cell_type": "code",
   "execution_count": 48,
   "metadata": {
    "collapsed": true
   },
   "outputs": [],
   "source": [
    "def kl_div(q,p):\n",
    "    if len(q) != len(p):\n",
    "        return\"different lenth\"\n",
    "    inter=[]\n",
    "    for (qi,pi) in zip(q,p):\n",
    "        if qi !=0:\n",
    "            inter.append(qi*log(qi/pi))\n",
    "    return sum(inter )"
   ]
  }
 ],
 "metadata": {
  "kernelspec": {
   "display_name": "Python 2",
   "language": "python",
   "name": "python2"
  },
  "language_info": {
   "codemirror_mode": {
    "name": "ipython",
    "version": 2
   },
   "file_extension": ".py",
   "mimetype": "text/x-python",
   "name": "python",
   "nbconvert_exporter": "python",
   "pygments_lexer": "ipython2",
   "version": "2.7.13"
  }
 },
 "nbformat": 4,
 "nbformat_minor": 2
}
