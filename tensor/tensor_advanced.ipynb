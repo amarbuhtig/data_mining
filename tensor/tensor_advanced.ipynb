{
 "cells": [
  {
   "cell_type": "code",
   "execution_count": 1,
   "metadata": {
    "collapsed": false
   },
   "outputs": [],
   "source": [
    "from __future__ import division\n",
    "import tensor_calculation as t\n",
    "from i import Ima\n",
    "from collections import Counter\n",
    "import random\n",
    "from math import exp\n",
    "from math import log"
   ]
  },
  {
   "cell_type": "code",
   "execution_count": 2,
   "metadata": {
    "collapsed": true
   },
   "outputs": [],
   "source": [
    "def gene_random_tensor(struct, (a,b)): \n",
    "    if type(struct) != list:\n",
    "        \"struct must be a tensor\"\n",
    "    elif len(struct) == 1:\n",
    "        return [random.uniform(a,b) for i in range(struct[0])]\n",
    "    else:\n",
    "        return[gene_random_tensor(struct[1:], (a,b)) for i in range(struct[0])]"
   ]
  },
  {
   "cell_type": "code",
   "execution_count": 3,
   "metadata": {
    "collapsed": true
   },
   "outputs": [],
   "source": [
    "def gene_blank_tensor(struct):\n",
    "    if type(struct) != list:\n",
    "        \"struct must be a tensor\"\n",
    "    elif len(struct) == 1:\n",
    "        return [0 for i in range(struct[0])]\n",
    "    else:\n",
    "        return[gene_blank_tensor(struct[1:]) for i in range(struct[0])]"
   ]
  },
  {
   "cell_type": "code",
   "execution_count": 4,
   "metadata": {
    "collapsed": true
   },
   "outputs": [],
   "source": [
    "def sig (list_):\n",
    "    if len(list_) ==1:\n",
    "        return 1\n",
    "    counter = 0\n",
    "    for i in range(len(list_) -1):\n",
    "        for j in range(i+1):\n",
    "            if list_[i+1]<list_[j]:\n",
    "                counter += 1\n",
    "    return (-1)**counter       "
   ]
  },
  {
   "cell_type": "code",
   "execution_count": 5,
   "metadata": {
    "collapsed": false
   },
   "outputs": [],
   "source": [
    "def gk_delta(lenth, dim):                      #generalized Kronecker delta, we want up index and down index\n",
    "    struct = [dim for j in range(2*lenth)]           \n",
    "    bl = [0 for k in range(dim**(2*lenth))]\n",
    "    for i in range(len(bl)):\n",
    "        whole_cord = t.n_to_cord(struct, i)\n",
    "        u_cord=whole_cord[0:lenth]\n",
    "        d_cord=whole_cord[lenth:]\n",
    "        if max(Counter(u_cord).values())>1 or max(Counter(d_cord).values() )>1\\\n",
    "            or  Counter(u_cord).keys() != Counter(d_cord).keys(): \n",
    "            continue  \n",
    "        bl[i] = sig(u_cord)*sig(d_cord)\n",
    "    return t.list_to_tensor(bl, struct)"
   ]
  },
  {
   "cell_type": "code",
   "execution_count": 6,
   "metadata": {
    "collapsed": false,
    "scrolled": true
   },
   "outputs": [],
   "source": [
    "def matrix_adj(A ,i,j):\n",
    "    if len(A) == 1:\n",
    "        return A\n",
    "    b=  A[0:i]+A[i+1:]\n",
    "    return [ be[0:j]+be[j+1:] for be in b]"
   ]
  },
  {
   "cell_type": "code",
   "execution_count": 7,
   "metadata": {
    "collapsed": false
   },
   "outputs": [],
   "source": [
    "def det(a):\n",
    "    if len(a) ==1:\n",
    "        return a[0][0]\n",
    "    return sum([a[0][i]*((-1)**i )*det( matrix_adj(a ,0,i) )  for i in range(len(a)) ] )"
   ]
  },
  {
   "cell_type": "code",
   "execution_count": 8,
   "metadata": {
    "collapsed": true
   },
   "outputs": [],
   "source": [
    "def matrix_inver(a):\n",
    "    if len(a) !=len(a[0]):\n",
    "        return \"not a squire matrix\"\n",
    "    if len(a) ==1 and len(a[0]) ==1:\n",
    "        return[[1/a[0][0]]]\n",
    "    b = []\n",
    "    for i in range(len(a)):\n",
    "        b.append([t.list_nu(det(matrix_adj(a, i,j) ), (-1)**(i +j)   )  for j in range(len(a[0])) ] )\n",
    "    return t.list_nu(t.transp(b, [1,0]), 1/det(a)) "
   ]
  },
  {
   "cell_type": "code",
   "execution_count": 9,
   "metadata": {
    "collapsed": true
   },
   "outputs": [],
   "source": [
    "def colu_fi(list_):\n",
    "    if type(list_[0]) == list:\n",
    "        return \"not a vector\"\n",
    "    return[[i] for i in list_ ]"
   ]
  },
  {
   "cell_type": "code",
   "execution_count": 10,
   "metadata": {
    "collapsed": true
   },
   "outputs": [],
   "source": [
    "def mat_dot(a,b):\n",
    "    if len(t.tensor_struct(a))>1:\n",
    "        return t.tensor_contrac(a, b ,[1], [0])\n",
    "    else:\n",
    "        return t.tensor_contrac(a, b ,[0], [0])"
   ]
  },
  {
   "cell_type": "code",
   "execution_count": 11,
   "metadata": {
    "collapsed": false
   },
   "outputs": [],
   "source": [
    "def eigen_valu1(a):   #using Aberth method can't figure out the best way to initialize\n",
    "    if len(a) != len(a[0]):\n",
    "        return \"not a square matrix\"\n",
    "    I = [[1 if i ==j else 0 for i in range(len(a)) ]for j in range(len(a)) ]\n",
    "    def eigen_ma(x):\n",
    "        return t.list_add(a, t.list_nu(I, -x))\n",
    "    def de_eipo(x):\n",
    "        return -1*sum([det(matrix_adj(eigen_ma(x), i,i)) for i in range(len(a))])\n",
    "    def pp (list_):\n",
    "        return  [de_eipo(x)/det(eigen_ma(x)) for x in list_]\n",
    "    def inter(root):\n",
    "        list_=[[root[i]-j for j in root[:i]+root[i+1:]] for i in range(len(root))]\n",
    "        list_1=[reduce(lambda x,y: x*y, k) for k in list_]\n",
    "        return t.list_power(list_1, -1)\n",
    "    #if len(a)%2 ==0:\n",
    "        #root = [random.uniform(i*10, i*10 +10) for i in range(len(a)//2)]\\\n",
    "            #+[random.uniform(-j*10-10, -j*10 -20) for j in range(len(a)//2)]\n",
    "    #else:\n",
    "        #root = [random.uniform(i*5, i*5 +5) for i in range(len(a)//2)]\\\n",
    "                #+[random.uniform(-j*5-5, -j*5 -10) for j in range(len(a)-len(a)//2)]\n",
    "    root = [-1,1, Ima(0,1)]\n",
    "    while True:\n",
    "        new_root = t.list_sub(root, t.list_power(t.list_sub(pp(root), inter(root)),-1))\n",
    "        root = new_root\n",
    "        #print [det(eigen_ma(x)) for x in root]\n",
    "        #print [det(eigen_ma(x)) for x in root]\n",
    "        ##print root\n",
    "        if max([abs(det(eigen_ma(x))) for x in root])<0.0000001:\n",
    "            break\n",
    "    return root,max([det(eigen_ma(x)) for x in root])"
   ]
  },
  {
   "cell_type": "code",
   "execution_count": 38,
   "metadata": {
    "collapsed": false
   },
   "outputs": [],
   "source": [
    "def eigen_valu(a):   #using newton, one root at a time, good for imaginary root\n",
    "    if len(a) != len(a[0]):\n",
    "        return \"not a square matrix\"\n",
    "    I = [[1 if i ==j else 0 for i in range(len(a)) ]for j in range(len(a)) ]\n",
    "    def eig_ma(x):\n",
    "        return t.list_add(a, t.list_nu(I, -x))\n",
    "    def de_eipo(x):\n",
    "        return -1*sum([det(matrix_adj(eig_ma(x), i,i)) for i in range(len(a))])\n",
    "    def p(root, x):\n",
    "        if root==[]:\n",
    "            return det( eig_ma(x))\n",
    "        else:\n",
    "            return det( eig_ma(x))/t.list_mu(t.list_shift(root, -x))\n",
    "    def de_p(root, x):\n",
    "        if root==[]:\n",
    "            return de_eipo(x)\n",
    "        else:\n",
    "            pl=[det( eig_ma(x)) ]+t.list_power(t.list_shift(root, -x), -1)\n",
    "            de_pl = [de_eipo(x)]+t.list_power(t.list_shift(root, -x), -2)\n",
    "            return sum([t.list_mu(pl[:i]+[de_pl[i]]+pl[i+1:]) for i in range(len(pl))] )\n",
    "    root = []\n",
    "    while True:\n",
    "        x = Ima(random.uniform(-10, 10), random.uniform(-10, 10))\n",
    "        while True:\n",
    "            x = x- p(root, x)/de_p(root, x)\n",
    "            if abs( det(eig_ma(x))) < 0.000000001:\n",
    "                break \n",
    "        root.append(x)\n",
    "        if len(root) == len(a):\n",
    "            break\n",
    "    return sorted(root, reverse=True, key = lambda x: x.re)"
   ]
  },
  {
   "cell_type": "code",
   "execution_count": 39,
   "metadata": {
    "collapsed": false
   },
   "outputs": [
    {
     "data": {
      "text/plain": [
       "[20.0+2.2351197039214118e-15i,\n",
       " 2.122947317820885e-07+2.9300257035089834e-06i,\n",
       " -2.9429169481751176e-07-3.0055327077975883e-06i,\n",
       " -4.0+6.617444900424222e-24i]"
      ]
     },
     "execution_count": 39,
     "metadata": {},
     "output_type": "execute_result"
    }
   ],
   "source": [
    "eigen_valu([[1,2,3,4], [5,6,7,8], [9, 8 ,7, 6], [ 5, 4, 3, 2]])"
   ]
  },
  {
   "cell_type": "code",
   "execution_count": 14,
   "metadata": {
    "collapsed": false
   },
   "outputs": [
    {
     "data": {
      "text/plain": [
       "[0.5000000000035216+0.8660254037867865i,\n",
       " 0.49999999999749856-0.8660254037887423i]"
      ]
     },
     "execution_count": 14,
     "metadata": {},
     "output_type": "execute_result"
    }
   ],
   "source": [
    "eigen_valu([[1/2, 3**(1/2)/2],[-(3**(1/2)/2), 1/2]])"
   ]
  },
  {
   "cell_type": "code",
   "execution_count": 44,
   "metadata": {
    "collapsed": true
   },
   "outputs": [],
   "source": [
    "def eigen_vec(a, ev):\n",
    "    I = [[1 if i ==j else 0 for i in range(len(a)) ]for j in range(len(a)) ]\n",
    "    def eig_ma(x):\n",
    "        return t.list_add(a, t.list_nu(I, -x))\n",
    "    vec = []\n",
    "    for v in sorted(Counter(ev).keys(), reverse=True):\n",
    "        b =eig_ma(v)\n",
    "        for i in range(len(b)):\n",
    "            b = matrix_adj(b ,len(b)-1,len(b)-1)\n",
    "            if abs(det(b)) > 0.000000001:\n",
    "                c= [j[len(eig_ma(v))-i-1:] for j in eig_ma(v)[:len(eig_ma(v))-1-i] ]  #first slice from top then from bottom\n",
    "                break                                                                #c has structure [ len(a)-i-1,i+1]\n",
    "        x_free = [[1 if k==j else 0 for k in range(i+1) ]for j in range(i+1) ]\n",
    "        x_rem= [mat_dot(matrix_inver(b) , t.list_nu(mat_dot(c, x), -1)) for x in x_free]\n",
    "        vec.extend([xr+xf for (xr,xf) in zip(x_rem, x_free) ])\n",
    "    return vec"
   ]
  },
  {
   "cell_type": "code",
   "execution_count": 45,
   "metadata": {
    "collapsed": false
   },
   "outputs": [
    {
     "data": {
      "text/plain": [
       "[[0.7560975609756098, 1.926829268292683, 2.1707317073170733, 1],\n",
       " [1.0, -2.0, 1, 0],\n",
       " [2.0, -3.0, 0, 1],\n",
       " [-1.0, -1.0, 1.0, 1]]"
      ]
     },
     "execution_count": 45,
     "metadata": {},
     "output_type": "execute_result"
    }
   ],
   "source": [
    "eigen_vec([[1,2,3,4], [5,6,7,8], [9, 8 ,7, 6], [ 5, 4, 3, 2]],[20, -4, 0,0])"
   ]
  },
  {
   "cell_type": "code",
   "execution_count": 17,
   "metadata": {
    "collapsed": false
   },
   "outputs": [],
   "source": [
    "ff=mat_dot([[1,2,3,4], [5,6,7,8], [9, 8 ,7, 6], [ 5, 4, 3, 2]], t.transp([[1.0, -2.0, 1, 0],\n",
    " [2.0, -3.0, 0, 1],\n",
    " [-1.0, -1.0, 1.0, 1],\n",
    " [0.7560975609756098, 1.926829268292683, 2.1707317073170733, 1]], [1,0]))"
   ]
  },
  {
   "cell_type": "code",
   "execution_count": 18,
   "metadata": {
    "collapsed": false
   },
   "outputs": [],
   "source": [
    "gg =matrix_inver(t.transp([[1.0, -2.0, 1, 0],\n",
    " [2.0, -3.0, 0, 1],\n",
    " [-1.0, -1.0, 1.0, 1],\n",
    " [0.7560975609756098, 1.926829268292683, 2.1707317073170733, 1]], [1,0]))"
   ]
  },
  {
   "cell_type": "code",
   "execution_count": 19,
   "metadata": {
    "collapsed": false
   },
   "outputs": [
    {
     "data": {
      "text/plain": [
       "[[0.0, 0.0, 0.0, -1.7763568394002505e-15],\n",
       " [0.0, 0.0, 0.0, 0.0],\n",
       " [0.0, 0.0, -4.0, -2.6645352591003757e-15],\n",
       " [0.0, 0.0, 0.0, 20.000000000000004]]"
      ]
     },
     "execution_count": 19,
     "metadata": {},
     "output_type": "execute_result"
    }
   ],
   "source": [
    "mat_dot(gg, ff)"
   ]
  },
  {
   "cell_type": "code",
   "execution_count": 20,
   "metadata": {
    "collapsed": false
   },
   "outputs": [
    {
     "data": {
      "text/plain": [
       "[20, 50.96774193548388, 57.41935483870968, 26.4516129032258]"
      ]
     },
     "execution_count": 20,
     "metadata": {},
     "output_type": "execute_result"
    }
   ],
   "source": [
    "t.list_nu([1, 2.548387096774194, 2.870967741935484, 1.32258064516129], 20)"
   ]
  },
  {
   "cell_type": "code",
   "execution_count": 21,
   "metadata": {
    "collapsed": false
   },
   "outputs": [],
   "source": [
    "def antisym_fi( tensor, index):\n",
    "    struct = t.tensor_struct(tensor)\n",
    "    if len(Counter([struct[ind] for ind in index ] ).keys() ) != 1:\n",
    "        return \"wrong index\"\n",
    "    kd = gk_delta(len(index), struct[index[0]])\n",
    "    T= t.tensor_contrac(tensor, kd, index, range(len(index)))\n",
    "    return t.list_nu(T, 1/reduce(lambda x,y: x*y, [i+1 for i in range(len(index)) ])  )"
   ]
  },
  {
   "cell_type": "code",
   "execution_count": 22,
   "metadata": {
    "collapsed": true
   },
   "outputs": [],
   "source": [
    "def tol_sym_tensor(lenth, dim):                      #smmetric tensor, we want up index and down index\n",
    "    struct = [dim for j in range(2*lenth)]           # =1 if the up index is the arrangement \n",
    "    bl = [0 for k in range(dim**(2*lenth))]\n",
    "    def factorial(n):\n",
    "        return reduce(lambda x,y: x*y, [i+1 for i in range(n) ]) \n",
    "    for i in range(len(bl)):\n",
    "        whole_cord = t.n_to_cord(struct, i)\n",
    "        u_cord=whole_cord[0:lenth]\n",
    "        d_cord=whole_cord[lenth:]\n",
    "        if  Counter(u_cord).keys() != Counter(d_cord).keys(): \n",
    "            continue  \n",
    "        if max(Counter(u_cord).values()) ==1:\n",
    "            bl[i] = 1\n",
    "        else:\n",
    "            factor = Counter(u_cord).values()\n",
    "            facfac=[factorial(j) for j in factor]\n",
    "            bl[i] =reduce(lambda x,y: x*y, facfac) \n",
    "    return t.list_to_tensor(bl, struct)"
   ]
  },
  {
   "cell_type": "code",
   "execution_count": 23,
   "metadata": {
    "collapsed": true
   },
   "outputs": [],
   "source": [
    "def tol_sym_fi( tensor, index):\n",
    "    struct = t.tensor_struct(tensor)\n",
    "    if len(Counter([struct[ind] for ind in index ] ).keys() ) != 1:\n",
    "        return \"wrong index\"\n",
    "    st = tol_sym_tensor(len(index), struct[index[0]])\n",
    "    T= t.tensor_contrac(tensor, st, index, range(len(index)))\n",
    "    return t.list_nu(T, 1/reduce(lambda x,y: x*y, [i+1 for i in range(len(index)) ])  )"
   ]
  },
  {
   "cell_type": "code",
   "execution_count": 24,
   "metadata": {
    "collapsed": false
   },
   "outputs": [],
   "source": [
    "def softmax(list_):\n",
    "    if type(list_) != list:\n",
    "        return \"must be a list\"\n",
    "    return t.list_nu([ exp(l) for l in  list_], 1/sum([ exp(l) for l in  list_] ) )"
   ]
  },
  {
   "cell_type": "code",
   "execution_count": 25,
   "metadata": {
    "collapsed": true
   },
   "outputs": [],
   "source": [
    "def kl_div(q,p):\n",
    "    if len(q) != len(p):\n",
    "        return\"different lenth\"\n",
    "    inter=[]\n",
    "    for (qi,pi) in zip(q,p):\n",
    "        if qi !=0:\n",
    "            inter.append(qi*log(qi/pi))\n",
    "    return sum(inter )"
   ]
  }
 ],
 "metadata": {
  "kernelspec": {
   "display_name": "Python 2",
   "language": "python",
   "name": "python2"
  },
  "language_info": {
   "codemirror_mode": {
    "name": "ipython",
    "version": 2
   },
   "file_extension": ".py",
   "mimetype": "text/x-python",
   "name": "python",
   "nbconvert_exporter": "python",
   "pygments_lexer": "ipython2",
   "version": "2.7.13"
  }
 },
 "nbformat": 4,
 "nbformat_minor": 2
}
