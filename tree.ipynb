{
 "cells": [
  {
   "cell_type": "code",
   "execution_count": 44,
   "metadata": {
    "collapsed": true
   },
   "outputs": [],
   "source": [
    "from __future__ import division\n",
    "import tensor_calculation as t\n",
    "import tensor_advanced as ta\n",
    "from collections import Counter\n",
    "import random\n",
    "from math import exp"
   ]
  },
  {
   "cell_type": "code",
   "execution_count": null,
   "metadata": {
    "collapsed": true
   },
   "outputs": [],
   "source": [
    "#store tree structure in  a list with maximum lenth with 3 \\\n",
    "#[[coordinate ,split point] ,[go to when bigger than split point ] ,[ else] ]"
   ]
  },
  {
   "cell_type": "code",
   "execution_count": 71,
   "metadata": {
    "collapsed": true
   },
   "outputs": [],
   "source": [
    "def x_to_cord(x, tree):                 #given x  compute its cord\n",
    "    if len(tree) != 3 and tree != []:\n",
    "        return \"not a tree\"\n",
    "    if tree == []:\n",
    "        return []\n",
    "    else:\n",
    "        if x[tree[0][0]] < tree[0][1]:    \n",
    "            return [0]+x_to_cord(x, tree[1])\n",
    "        else:\n",
    "            return [1]+x_to_cord(x, tree[2])"
   ]
  },
  {
   "cell_type": "code",
   "execution_count": 73,
   "metadata": {
    "collapsed": false
   },
   "outputs": [
    {
     "data": {
      "text/plain": [
       "[0, 0]"
      ]
     },
     "execution_count": 73,
     "metadata": {},
     "output_type": "execute_result"
    }
   ],
   "source": [
    "x_to_cord([4,4,4], [[0,5],[[1,5],[],[] ], []  ] )"
   ]
  },
  {
   "cell_type": "code",
   "execution_count": 18,
   "metadata": {
    "collapsed": true
   },
   "outputs": [],
   "source": [
    "def two_class_tree(x, tree, classifi):   # result contains the classification information  in the given region\n",
    "    cord = x_to_cord(x, tree)\n",
    "    return t.locate_element( classifi, cord)"
   ]
  },
  {
   "cell_type": "code",
   "execution_count": 24,
   "metadata": {
    "collapsed": false
   },
   "outputs": [
    {
     "data": {
      "text/plain": [
       "[[0, 1], [1, 2]]"
      ]
     },
     "execution_count": 24,
     "metadata": {},
     "output_type": "execute_result"
    }
   ],
   "source": [
    "sorted([[1,2], [0,1] ], key =lambda x: x[1] )"
   ]
  },
  {
   "cell_type": "code",
   "execution_count": 61,
   "metadata": {
    "collapsed": true
   },
   "outputs": [],
   "source": [
    "def whole_gini(list1, list2 ):\n",
    "    c1 = t.list_nu(Counter(list1).values(), 1/len(list1))\n",
    "    g1 = 1-t.list_contrac(c1, c1)\n",
    "    c2 = t.list_nu(Counter(list2).values(), 1/len(list2))\n",
    "    g2 = 1-t.list_contrac(c2, c2)\n",
    "    return g1*len(list1)/len(list1+list2)+g2*len(list2)/len(list1+list2)"
   ]
  },
  {
   "cell_type": "code",
   "execution_count": 87,
   "metadata": {
    "collapsed": false
   },
   "outputs": [
    {
     "data": {
      "text/plain": [
       "0.4666666666666667"
      ]
     },
     "execution_count": 87,
     "metadata": {},
     "output_type": "execute_result"
    }
   ],
   "source": [
    "whole_gini([1,1,1,1,2,2],[1,1,2,2])"
   ]
  },
  {
   "cell_type": "code",
   "execution_count": 149,
   "metadata": {
    "collapsed": true
   },
   "outputs": [],
   "source": [
    "def train_class_tree(data):\n",
    "    #assuming data is correct\n",
    "    if len(data) <5:\n",
    "        #print \"a\"\n",
    "        #print sorted(Counter([d[1] for d in data] ).iteritems(), key =lambda x: x[1], reverse=True )[0][0]\n",
    "        return [[], [sorted(Counter([d[1] for d in data] ).iteritems(), key =lambda x: x[1], reverse=True )[0][0]]]\n",
    "    #just trying to find the most common class and let it be the \n",
    "    if len(Counter([d[1] for d in data]).keys() ) ==1:\n",
    "        #print \"b\"\n",
    "        #print Counter([d[1] for d in data]).keys()\n",
    "        return [[],  Counter([d[1] for d in data]).keys()]\n",
    "    best_i =len(data)//2\n",
    "    best_d = 0\n",
    "    split = 0\n",
    "    old_gini = 0.5\n",
    "    bt=[]\n",
    "    for di in range(len(data[0][0])):\n",
    "        temp = sorted([ [item[0][di], item[1] ] for item in data] )\n",
    "        for i in range(len(data)-1):\n",
    "            gini = whole_gini( [t[1] for t in temp][:i+1], [t[1] for t in temp][i+1:])\n",
    "            if gini < old_gini:\n",
    "                old_gini = gini\n",
    "                best_i = i\n",
    "                best_d = di\n",
    "    bt = sorted(data, key = lambda x: x[best_d])\n",
    "    split = (bt[best_i][0][best_d]+bt[best_i+1][0][best_d]  )/2\n",
    "    tree1 =  train_class_tree(bt[:best_i+1])\n",
    "    tree2 =  train_class_tree(bt[best_i+1:])\n",
    "    print len(bt[:best_i+1]), len(bt[best_i+1:])\n",
    "    #print best_i\n",
    "    return[ [[best_d, split] , tree1[0] , tree2[0]  ], \\\n",
    "           [  tree1[1] , tree2[1] ] ]"
   ]
  },
  {
   "cell_type": "code",
   "execution_count": 151,
   "metadata": {
    "collapsed": false
   },
   "outputs": [],
   "source": [
    "data_x=ta.gene_random_tensor([100,2], (-1, 1))\n",
    "data1 = [[x, 1 ]  if (x[0]>0 and x[1]>0)  else [x, 0] for x in data_x ]"
   ]
  },
  {
   "cell_type": "code",
   "execution_count": 152,
   "metadata": {
    "collapsed": false
   },
   "outputs": [
    {
     "name": "stdout",
     "output_type": "stream",
     "text": [
      "15 20\n",
      "65 35\n"
     ]
    },
    {
     "data": {
      "text/plain": [
       "[[[0, -0.007411939296477321], [], [[1, 0.191651356602609], [], []]],\n",
       " [[0], [[0], [1]]]]"
      ]
     },
     "execution_count": 152,
     "metadata": {},
     "output_type": "execute_result"
    }
   ],
   "source": [
    "train_class_tree(data1)"
   ]
  },
  {
   "cell_type": "code",
   "execution_count": 148,
   "metadata": {
    "collapsed": false
   },
   "outputs": [
    {
     "data": {
      "text/plain": [
       "3"
      ]
     },
     "execution_count": 148,
     "metadata": {},
     "output_type": "execute_result"
    }
   ],
   "source": [
    "len([[0, 0.45335042052436014],\n",
    "  [[1, 0.10735346632094278],\n",
    "   [[0, -0.6960742359656344],\n",
    "    [[1, 0.09414212937471567],\n",
    "     [[1, 0.0041010583900692454], [], [[0, -0.8047452649581027], [], []]],\n",
    "     []],\n",
    "    []],\n",
    "   []],\n",
    "  [[1, -0.040756005732150324], [], []]])"
   ]
  },
  {
   "cell_type": "code",
   "execution_count": 56,
   "metadata": {
    "collapsed": false
   },
   "outputs": [
    {
     "data": {
      "text/plain": [
       "[[0, 1], [1, 2], [2, 3]]"
      ]
     },
     "execution_count": 56,
     "metadata": {},
     "output_type": "execute_result"
    }
   ],
   "source": [
    "sorted([[1,2],[2,3],[0,1] ] )"
   ]
  },
  {
   "cell_type": "code",
   "execution_count": 53,
   "metadata": {
    "collapsed": false,
    "scrolled": true
   },
   "outputs": [
    {
     "data": {
      "text/plain": [
       "1"
      ]
     },
     "execution_count": 53,
     "metadata": {},
     "output_type": "execute_result"
    }
   ],
   "source": [
    "sorted(Counter([1,1,1,1,1,2,2,2] ).iteritems(), key =lambda x: x[1], reverse=True )[0][0]"
   ]
  },
  {
   "cell_type": "code",
   "execution_count": 55,
   "metadata": {
    "collapsed": false
   },
   "outputs": [
    {
     "data": {
      "text/plain": [
       "[1, 2]"
      ]
     },
     "execution_count": 55,
     "metadata": {},
     "output_type": "execute_result"
    }
   ],
   "source": [
    "Counter([1,1,1,1,1,2,2,2] ).keys()"
   ]
  },
  {
   "cell_type": "code",
   "execution_count": 70,
   "metadata": {
    "collapsed": false
   },
   "outputs": [
    {
     "data": {
      "text/plain": [
       "[4]"
      ]
     },
     "execution_count": 70,
     "metadata": {},
     "output_type": "execute_result"
    }
   ],
   "source": [
    "da= [1,2,3,4]\n",
    "da[3:]"
   ]
  }
 ],
 "metadata": {
  "kernelspec": {
   "display_name": "Python 2",
   "language": "python",
   "name": "python2"
  },
  "language_info": {
   "codemirror_mode": {
    "name": "ipython",
    "version": 2
   },
   "file_extension": ".py",
   "mimetype": "text/x-python",
   "name": "python",
   "nbconvert_exporter": "python",
   "pygments_lexer": "ipython2",
   "version": "2.7.13"
  }
 },
 "nbformat": 4,
 "nbformat_minor": 2
}
