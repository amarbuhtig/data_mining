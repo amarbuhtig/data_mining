{
 "cells": [
  {
   "cell_type": "code",
   "execution_count": 1,
   "metadata": {
    "collapsed": false
   },
   "outputs": [],
   "source": [
    "import random\n",
    "from functools import reduce\n",
    "from __future__ import division\n",
    "from scipy import stats \n",
    "from scipy.stats import multivariate_normal as m_n\n",
    "import numpy as np\n",
    "from  math import log"
   ]
  },
  {
   "cell_type": "code",
   "execution_count": 2,
   "metadata": {
    "collapsed": true
   },
   "outputs": [],
   "source": [
    "def dot(v,u):\n",
    "    return sum(i*j for (i,j) in zip(v,u))"
   ]
  },
  {
   "cell_type": "code",
   "execution_count": 3,
   "metadata": {
    "collapsed": true
   },
   "outputs": [],
   "source": [
    "def add(v,u):\n",
    "    return [i+j for (i,j) in zip(v,u)]"
   ]
  },
  {
   "cell_type": "code",
   "execution_count": 4,
   "metadata": {
    "collapsed": true
   },
   "outputs": [],
   "source": [
    "def nu(a, u):\n",
    "    return [a*i for i in u ]"
   ]
  },
  {
   "cell_type": "code",
   "execution_count": 5,
   "metadata": {
    "collapsed": true
   },
   "outputs": [],
   "source": [
    "def nu_vec(u ,v):\n",
    "    return [i*j  for (i,j) in zip(u, v)]"
   ]
  },
  {
   "cell_type": "code",
   "execution_count": 6,
   "metadata": {
    "collapsed": true
   },
   "outputs": [],
   "source": [
    "def vec_fi(v):\n",
    "    return[[i] for i in v]"
   ]
  },
  {
   "cell_type": "code",
   "execution_count": 7,
   "metadata": {
    "collapsed": true
   },
   "outputs": [],
   "source": [
    "def vec_sum(v):\n",
    "    return reduce(add, v)"
   ]
  },
  {
   "cell_type": "code",
   "execution_count": 8,
   "metadata": {
    "collapsed": true
   },
   "outputs": [],
   "source": [
    "def vec_mean(v):\n",
    "    return un(1/max(1, len(v)), vec_sum(v))"
   ]
  },
  {
   "cell_type": "code",
   "execution_count": 9,
   "metadata": {
    "collapsed": true
   },
   "outputs": [],
   "source": [
    "def dist(v,u):\n",
    "    return dot(add(v, nu(-1,u)), add(v, nu(-1,u)))**0.5"
   ]
  },
  {
   "cell_type": "code",
   "execution_count": 10,
   "metadata": {
    "collapsed": true
   },
   "outputs": [],
   "source": [
    "def mat_dot(m,n):\n",
    "    l =  inver(n)\n",
    "    return[[dot(i, j) for j in l] for i in m ]"
   ]
  },
  {
   "cell_type": "code",
   "execution_count": 11,
   "metadata": {
    "collapsed": false
   },
   "outputs": [],
   "source": [
    "def make_mat(u, v):\n",
    "    return mat_dot(vec_fi(u), inver(vec_fi(v)))"
   ]
  },
  {
   "cell_type": "code",
   "execution_count": 12,
   "metadata": {
    "collapsed": true
   },
   "outputs": [],
   "source": [
    "def inver(d):\n",
    "    return [ [d[j][i] for j in range(len(d)) ] for i in range(len(d[0]))]"
   ]
  },
  {
   "cell_type": "code",
   "execution_count": 13,
   "metadata": {
    "collapsed": true
   },
   "outputs": [],
   "source": [
    "def trace(m):\n",
    "    dig = [m[i][i] for i in range(len(m))]\n",
    "    return sum(dig)"
   ]
  },
  {
   "cell_type": "code",
   "execution_count": 14,
   "metadata": {
    "collapsed": true
   },
   "outputs": [],
   "source": [
    "def ge_pi (k):\n",
    "    l = [random.randint(0, 10000) for i in range(k-1)]\n",
    "    l_p = sorted(l)+[10000]\n",
    "    l_m =[0]+sorted(l)\n",
    "    l_re = [i-j for (i,j) in zip(l_p , l_m)]\n",
    "    return [i/10000 for i in l_re]"
   ]
  },
  {
   "cell_type": "code",
   "execution_count": 15,
   "metadata": {
    "collapsed": true
   },
   "outputs": [],
   "source": [
    "def ge_pi2 (k):\n",
    "    l = [random.randint(0, 10000/(k-1)) for i in range(k-1)]\n",
    "    l_re=[ i-j+(10000/(k-1))  for (i,j) in zip(l+[0], [10000/(k-1)]+l)]\n",
    "    return [ i/10000 for i in l_re]"
   ]
  },
  {
   "cell_type": "code",
   "execution_count": 16,
   "metadata": {
    "collapsed": true
   },
   "outputs": [],
   "source": [
    "def ge_inv_mat (k):\n",
    "    mat=[[0 for i in range(k)] for j in range (k)]\n",
    "    for i in range (k):\n",
    "        for j in range(k):\n",
    "            if i==j:\n",
    "                mat[i][j]=0\n",
    "            else:\n",
    "                mat[i][j]=random.uniform(100, 101)\n",
    "    return mat"
   ]
  },
  {
   "cell_type": "code",
   "execution_count": 59,
   "metadata": {
    "collapsed": true
   },
   "outputs": [],
   "source": [
    "def ge_posi_mat (k):\n",
    "    p = np.array(ge_inv_mat(k))\n",
    "    p1=np.linalg.inv(p)\n",
    "    cov = [[0 for j in range(k) ] for i in range(k)]\n",
    "    for i in range(k):\n",
    "        for j in range(k):\n",
    "            if i==j:\n",
    "                cov[i][j]=random.uniform(5, 10)\n",
    "            else:\n",
    "                cov[i][j]=0\n",
    "    return reduce(mat_dot, [p1, cov, p])"
   ]
  },
  {
   "cell_type": "code",
   "execution_count": 18,
   "metadata": {
    "collapsed": true
   },
   "outputs": [],
   "source": [
    "def mat_sum(u):\n",
    "    re_mat = [[j[i] for j in u] for i in  range(len(u[0]))]\n",
    "    return [vec_sum(i) for i in re_mat]"
   ]
  },
  {
   "cell_type": "code",
   "execution_count": 19,
   "metadata": {
    "collapsed": true
   },
   "outputs": [],
   "source": [
    "def make_mat_from(data):\n",
    "    re_data = [make_mat(i, i)  for i in data]\n",
    "    return mat_sum(re_data)"
   ]
  },
  {
   "cell_type": "code",
   "execution_count": 20,
   "metadata": {
    "collapsed": true
   },
   "outputs": [],
   "source": [
    "def nu_mat(a ,mat):\n",
    "    return[nu(a, i) for i in mat]"
   ]
  },
  {
   "cell_type": "code",
   "execution_count": 21,
   "metadata": {
    "collapsed": true
   },
   "outputs": [],
   "source": [
    "def ge_cov(k):\n",
    "    vec = ge_inv_mat(k)\n",
    "    mat_ind= make_mat_from(vec)\n",
    "    return nu_mat(1/1, mat_ind) "
   ]
  },
  {
   "cell_type": "code",
   "execution_count": 22,
   "metadata": {
    "collapsed": true
   },
   "outputs": [],
   "source": [
    "def comp_gam(data, c, cov, pi):\n",
    "    gam_data=[[m_n.pdf(i, j, k)*l for (j,k,l) in zip(c, cov, pi)] for i in data]\n",
    "    return inver([[(j+0.00001)/(sum(i)+0.00001*(len(pi)+1)) for j in i] for i in gam_data])"
   ]
  },
  {
   "cell_type": "code",
   "execution_count": 23,
   "metadata": {
    "collapsed": true
   },
   "outputs": [],
   "source": [
    "def c_upd(data, gam, n_k):\n",
    "    kdata = [[ nu_vec(j, i)  for i in data] for j in gam]\n",
    "    return [nu(1/j, vec_sum(i)) for (i,j) in zip(kdata, n_k)]"
   ]
  },
  {
   "cell_type": "code",
   "execution_count": 24,
   "metadata": {
    "collapsed": false
   },
   "outputs": [],
   "source": [
    "def cov_upd(data, c, gma, n_k):\n",
    "    data1 = [[add(j ,nu(-1, i)) for j in data] for i in c]\n",
    "    data2=[[nu(k,l) for (k,l) in zip(i,j)] for (i,j) in zip(gma, data1)]\n",
    "    mat_unsum=[[make_mat(i, j) for (i,j) in zip(k,l)] for (k,l) in zip(data1, data2)]\n",
    "    mat =[mat_sum(i) for i in mat_unsum]\n",
    "    return [nu_mat(1/i, j) for (i,j) in zip(n_k, mat)]"
   ]
  },
  {
   "cell_type": "code",
   "execution_count": 25,
   "metadata": {
    "collapsed": false
   },
   "outputs": [],
   "source": [
    "def likhod(data, c, cov_l, pi):\n",
    "    data_likhod = [ sum([m_n.pdf(i, j, k)*l for (j,k,l) in zip (c, cov_l, pi) ]) for i in data]\n",
    "    return reduce( lambda x, y: x*y, data_likhod)"
   ]
  },
  {
   "cell_type": "code",
   "execution_count": 60,
   "metadata": {
    "collapsed": false
   },
   "outputs": [],
   "source": [
    "def m_g (data , k):\n",
    "    dem = len(data[0])\n",
    "    para_list=[]\n",
    "    for i in range(len(data)//100+5):\n",
    "        c =random.sample(data, k)\n",
    "        pi = ge_pi(k)\n",
    "        cov_l = [ge_cov(dem) for i in range(k)]\n",
    "        while True:\n",
    "            gam = comp_gam(data, c, cov_l, pi)\n",
    "            n_k = [sum(i) for i in gam]\n",
    "            cnew = c_upd(data, gam, n_k)\n",
    "            cov_l = cov_upd(data, c, gam, n_k)\n",
    "            pi = [i/sum(n_k) for i in n_k]\n",
    "            if max([dist(i,j)/(max(dot(i,i)**0.5, 0.00001))  for (i,j) in zip(c, cnew) ]) < 000000.1:\n",
    "                break\n",
    "            c = cnew\n",
    "        para_list.append([c, cov_l, pi])\n",
    "    ll = [likhod(data, i[0], i[1], i[2]) for i in para_list]\n",
    "    ind = ll.index(max(ll))\n",
    "    return para_list[ind]"
   ]
  },
  {
   "cell_type": "code",
   "execution_count": 61,
   "metadata": {
    "collapsed": false
   },
   "outputs": [
    {
     "data": {
      "text/plain": [
       "[[[1216.5442868371476, 2846.0614188914428],\n",
       "  [1216.544234304512, 2846.06129599324],\n",
       "  [1216.5444385880865, 2846.0617739072813]],\n",
       " [[[67000455.702895984, -1990898.0515764605],\n",
       "   [-1990898.0515764605, 333300669.89411312]],\n",
       "  [[67000453.640862219, -1990897.9349857173],\n",
       "   [-1990897.9349857173, 333300659.59005362]],\n",
       "  [[67000459.007798217, -1990898.2383971242],\n",
       "   [-1990898.2383971242, 333300686.40906203]]],\n",
       " [0.33333333545453009, 0.33333334601264292, 0.33333331853282699]]"
      ]
     },
     "execution_count": 61,
     "metadata": {},
     "output_type": "execute_result"
    }
   ],
   "source": [
    "m_g(data, 3)"
   ]
  },
  {
   "cell_type": "code",
   "execution_count": 16,
   "metadata": {
    "collapsed": true
   },
   "outputs": [
    {
     "name": "stdout",
     "output_type": "stream",
     "text": [
      "\n",
      "    A multivariate normal random variable.\n",
      "\n",
      "    The `mean` keyword specifies the mean. The `cov` keyword specifies the\n",
      "    covariance matrix.\n",
      "\n",
      "    Methods\n",
      "    -------\n",
      "    ``pdf(x, mean=None, cov=1, allow_singular=False)``\n",
      "        Probability density function.\n",
      "    ``logpdf(x, mean=None, cov=1, allow_singular=False)``\n",
      "        Log of the probability density function.\n",
      "    ``rvs(mean=None, cov=1, size=1, random_state=None)``\n",
      "        Draw random samples from a multivariate normal distribution.\n",
      "    ``entropy()``\n",
      "        Compute the differential entropy of the multivariate normal.\n",
      "\n",
      "    Parameters\n",
      "    ----------\n",
      "    x : array_like\n",
      "        Quantiles, with the last axis of `x` denoting the components.\n",
      "    mean : array_like, optional\n",
      "        Mean of the distribution (default zero)\n",
      "    cov : array_like, optional\n",
      "        Covariance matrix of the distribution (default one)\n",
      "    allow_singular : bool, optional\n",
      "        Whether to allow a singular covariance matrix.  (Default: False)\n",
      "    random_state : None or int or np.random.RandomState instance, optional\n",
      "        If int or RandomState, use it for drawing the random variates.\n",
      "        If None (or np.random), the global np.random state is used.\n",
      "        Default is None.\n",
      "\n",
      "    Alternatively, the object may be called (as a function) to fix the mean\n",
      "    and covariance parameters, returning a \"frozen\" multivariate normal\n",
      "    random variable:\n",
      "\n",
      "    rv = multivariate_normal(mean=None, cov=1, allow_singular=False)\n",
      "        - Frozen object with the same methods but holding the given\n",
      "          mean and covariance fixed.\n",
      "\n",
      "    Notes\n",
      "    -----\n",
      "    Setting the parameter `mean` to `None` is equivalent to having `mean`\n",
      "        be the zero-vector. The parameter `cov` can be a scalar, in which case\n",
      "        the covariance matrix is the identity times that value, a vector of\n",
      "        diagonal entries for the covariance matrix, or a two-dimensional\n",
      "        array_like.\n",
      "        \n",
      "\n",
      "    The covariance matrix `cov` must be a (symmetric) positive\n",
      "    semi-definite matrix. The determinant and inverse of `cov` are computed\n",
      "    as the pseudo-determinant and pseudo-inverse, respectively, so\n",
      "    that `cov` does not need to have full rank.\n",
      "\n",
      "    The probability density function for `multivariate_normal` is\n",
      "\n",
      "    .. math::\n",
      "\n",
      "        f(x) = \\frac{1}{\\sqrt{(2 \\pi)^k \\det \\Sigma}}\n",
      "               \\exp\\left( -\\frac{1}{2} (x - \\mu)^T \\Sigma^{-1} (x - \\mu) \\right),\n",
      "\n",
      "    where :math:`\\mu` is the mean, :math:`\\Sigma` the covariance matrix,\n",
      "    and :math:`k` is the dimension of the space where :math:`x` takes values.\n",
      "\n",
      "    .. versionadded:: 0.14.0\n",
      "\n",
      "    Examples\n",
      "    --------\n",
      "    >>> import matplotlib.pyplot as plt\n",
      "    >>> from scipy.stats import multivariate_normal\n",
      "\n",
      "    >>> x = np.linspace(0, 5, 10, endpoint=False)\n",
      "    >>> y = multivariate_normal.pdf(x, mean=2.5, cov=0.5); y\n",
      "    array([ 0.00108914,  0.01033349,  0.05946514,  0.20755375,  0.43939129,\n",
      "            0.56418958,  0.43939129,  0.20755375,  0.05946514,  0.01033349])\n",
      "    >>> fig1 = plt.figure()\n",
      "    >>> ax = fig1.add_subplot(111)\n",
      "    >>> ax.plot(x, y)\n",
      "\n",
      "    The input quantiles can be any shape of array, as long as the last\n",
      "    axis labels the components.  This allows us for instance to\n",
      "    display the frozen pdf for a non-isotropic random variable in 2D as\n",
      "    follows:\n",
      "\n",
      "    >>> x, y = np.mgrid[-1:1:.01, -1:1:.01]\n",
      "    >>> pos = np.dstack((x, y))\n",
      "    >>> rv = multivariate_normal([0.5, -0.2], [[2.0, 0.3], [0.3, 0.5]])\n",
      "    >>> fig2 = plt.figure()\n",
      "    >>> ax2 = fig2.add_subplot(111)\n",
      "    >>> ax2.contourf(x, y, rv.pdf(pos))\n",
      "\n",
      "    \n"
     ]
    }
   ],
   "source": [
    "print multivariate_normal.__doc__ "
   ]
  },
  {
   "cell_type": "code",
   "execution_count": 163,
   "metadata": {
    "collapsed": false
   },
   "outputs": [
    {
     "data": {
      "text/plain": [
       "2"
      ]
     },
     "execution_count": 163,
     "metadata": {},
     "output_type": "execute_result"
    }
   ],
   "source": [
    "max([1,2])"
   ]
  },
  {
   "cell_type": "code",
   "execution_count": 169,
   "metadata": {
    "collapsed": false
   },
   "outputs": [
    {
     "data": {
      "text/plain": [
       "660"
      ]
     },
     "execution_count": 169,
     "metadata": {},
     "output_type": "execute_result"
    }
   ],
   "source": [
    "len(comp_gam(data, c, cov, pi)[0])"
   ]
  },
  {
   "cell_type": "code",
   "execution_count": 111,
   "metadata": {
    "collapsed": false
   },
   "outputs": [],
   "source": [
    "nk =[sum(i) for i in ga]"
   ]
  },
  {
   "cell_type": "code",
   "execution_count": 50,
   "metadata": {
    "collapsed": true
   },
   "outputs": [],
   "source": [
    "pi=ge_pi(5)"
   ]
  },
  {
   "cell_type": "code",
   "execution_count": 51,
   "metadata": {
    "collapsed": true
   },
   "outputs": [],
   "source": [
    "c = random.sample(data, 5)"
   ]
  },
  {
   "cell_type": "code",
   "execution_count": 154,
   "metadata": {
    "collapsed": true
   },
   "outputs": [],
   "source": [
    "ga =comp_gam(data, c , [ ge_cov(2) for i in range(5)], pi)"
   ]
  },
  {
   "cell_type": "code",
   "execution_count": 155,
   "metadata": {
    "collapsed": false,
    "scrolled": false
   },
   "outputs": [
    {
     "data": {
      "text/plain": [
       "[[1220.0645028248134, 2854.2968370484823],\n",
       " [1139.6784982096708, 2666.2366827003038],\n",
       " [1479.9719336759817, 3462.34088397082],\n",
       " [1128.399301824335, 2639.8494101482561],\n",
       " [1142.372958745904, 2672.5402758040386]]"
      ]
     },
     "execution_count": 155,
     "metadata": {},
     "output_type": "execute_result"
    }
   ],
   "source": [
    "c_upd(data, ga, nk)"
   ]
  },
  {
   "cell_type": "code",
   "execution_count": null,
   "metadata": {
    "collapsed": true
   },
   "outputs": [],
   "source": [
    "data1 = [[add(j ,nu(-1, i)) for j in data] for i in c]\n",
    "mat_unsum=[[make_mat(i, j) for (i,j) in zip(k,l)] for (k,l) in zip(data, data1)]\n",
    "mat =[mat_sum(i) for i in mat_unsum]"
   ]
  },
  {
   "cell_type": "code",
   "execution_count": 133,
   "metadata": {
    "collapsed": false
   },
   "outputs": [],
   "source": [
    "data2=[[nu(k,l) for (k,l) in zip(i,j)] for (i,j) in zip(ga, data1)]"
   ]
  },
  {
   "cell_type": "code",
   "execution_count": 137,
   "metadata": {
    "collapsed": false
   },
   "outputs": [],
   "source": [
    "mat_unsum=[[make_mat(i, j) for (i,j) in zip(k,l)] for (k,l) in zip(data1, data2)]\n",
    "mat =[mat_sum(i) for i in mat_unsum]"
   ]
  },
  {
   "cell_type": "code",
   "execution_count": 138,
   "metadata": {
    "collapsed": false
   },
   "outputs": [
    {
     "data": {
      "text/plain": [
       "[[[7532909765.1766682, 144857729.01344502],\n",
       "  [144857729.01344502, 37475652641.916969]],\n",
       " [[7532908513.5058498, 116759739.22086191],\n",
       "  [116759739.22086191, 37354963556.668289]],\n",
       " [[7532908591.871418, 161719340.75979838],\n",
       "  [161719340.75979838, 37552589107.637901]],\n",
       " [[7532906092.4780254, -25465727.735943757],\n",
       "  [-25465727.735943757, 36888733935.370552]],\n",
       " [[7532905562.9925022, -636653220.64779615],\n",
       "  [-636653220.64779615, 37638646206.336975]]]"
      ]
     },
     "execution_count": 138,
     "metadata": {},
     "output_type": "execute_result"
    }
   ],
   "source": [
    "mat"
   ]
  },
  {
   "cell_type": "code",
   "execution_count": 141,
   "metadata": {
    "collapsed": false
   },
   "outputs": [
    {
     "name": "stderr",
     "output_type": "stream",
     "text": [
      "C:\\Anaconda2\\lib\\site-packages\\ipykernel\\__main__.py:2: VisibleDeprecationWarning: using a non-integer number instead of an integer will result in an error in the future\n",
      "  from ipykernel import kernelapp as app\n"
     ]
    },
    {
     "data": {
      "text/plain": [
       "[[[], []], [[], []], [[], []], [[], []], [[], []]]"
      ]
     },
     "execution_count": 141,
     "metadata": {},
     "output_type": "execute_result"
    }
   ],
   "source": [
    "[nu(1/i, j) for (i,j) in zip(nk, mat)]"
   ]
  },
  {
   "cell_type": "code",
   "execution_count": 142,
   "metadata": {
    "collapsed": false
   },
   "outputs": [
    {
     "data": {
      "text/plain": [
       "[112.29896904292904,\n",
       " 105.8505774037947,\n",
       " 124.17713496246684,\n",
       " 106.78628624445534,\n",
       " 105.48006228625992]"
      ]
     },
     "execution_count": 142,
     "metadata": {},
     "output_type": "execute_result"
    }
   ],
   "source": [
    "nk"
   ]
  },
  {
   "cell_type": "code",
   "execution_count": 156,
   "metadata": {
    "collapsed": false
   },
   "outputs": [],
   "source": [
    "cov_l =cov_upd(data, c, ga, nk)"
   ]
  },
  {
   "cell_type": "code",
   "execution_count": 157,
   "metadata": {
    "collapsed": false
   },
   "outputs": [
    {
     "ename": "ValueError",
     "evalue": "math domain error",
     "output_type": "error",
     "traceback": [
      "\u001b[0;31m---------------------------------------------------------------------------\u001b[0m",
      "\u001b[0;31mValueError\u001b[0m                                Traceback (most recent call last)",
      "\u001b[0;32m<ipython-input-157-16aaa704c165>\u001b[0m in \u001b[0;36m<module>\u001b[0;34m()\u001b[0m\n\u001b[0;32m----> 1\u001b[0;31m \u001b[0mlikhod\u001b[0m\u001b[1;33m(\u001b[0m\u001b[0mdata\u001b[0m\u001b[1;33m,\u001b[0m \u001b[0mc\u001b[0m\u001b[1;33m,\u001b[0m \u001b[0mcov_l\u001b[0m\u001b[1;33m,\u001b[0m \u001b[0mge_pi\u001b[0m\u001b[1;33m(\u001b[0m\u001b[1;36m5\u001b[0m\u001b[1;33m)\u001b[0m\u001b[1;33m)\u001b[0m\u001b[1;33m\u001b[0m\u001b[0m\n\u001b[0m",
      "\u001b[0;32m<ipython-input-151-6eed71f38690>\u001b[0m in \u001b[0;36mlikhod\u001b[0;34m(data, c, cov_l, pi)\u001b[0m\n\u001b[1;32m      1\u001b[0m \u001b[1;32mdef\u001b[0m \u001b[0mlikhod\u001b[0m\u001b[1;33m(\u001b[0m\u001b[0mdata\u001b[0m\u001b[1;33m,\u001b[0m \u001b[0mc\u001b[0m\u001b[1;33m,\u001b[0m \u001b[0mcov_l\u001b[0m\u001b[1;33m,\u001b[0m \u001b[0mpi\u001b[0m\u001b[1;33m)\u001b[0m\u001b[1;33m:\u001b[0m\u001b[1;33m\u001b[0m\u001b[0m\n\u001b[1;32m      2\u001b[0m     \u001b[0mdata_likhod\u001b[0m \u001b[1;33m=\u001b[0m \u001b[1;33m[\u001b[0m \u001b[0msum\u001b[0m\u001b[1;33m(\u001b[0m\u001b[1;33m[\u001b[0m\u001b[0mm_n\u001b[0m\u001b[1;33m.\u001b[0m\u001b[0mpdf\u001b[0m\u001b[1;33m(\u001b[0m\u001b[0mi\u001b[0m\u001b[1;33m,\u001b[0m \u001b[0mj\u001b[0m\u001b[1;33m,\u001b[0m \u001b[0mk\u001b[0m\u001b[1;33m)\u001b[0m\u001b[1;33m*\u001b[0m\u001b[0ml\u001b[0m \u001b[1;32mfor\u001b[0m \u001b[1;33m(\u001b[0m\u001b[0mj\u001b[0m\u001b[1;33m,\u001b[0m\u001b[0mk\u001b[0m\u001b[1;33m,\u001b[0m\u001b[0ml\u001b[0m\u001b[1;33m)\u001b[0m \u001b[1;32min\u001b[0m \u001b[0mzip\u001b[0m \u001b[1;33m(\u001b[0m\u001b[0mc\u001b[0m\u001b[1;33m,\u001b[0m \u001b[0mcov_l\u001b[0m\u001b[1;33m,\u001b[0m \u001b[0mpi\u001b[0m\u001b[1;33m)\u001b[0m \u001b[1;33m]\u001b[0m\u001b[1;33m)\u001b[0m \u001b[1;32mfor\u001b[0m \u001b[0mi\u001b[0m \u001b[1;32min\u001b[0m \u001b[0mdata\u001b[0m\u001b[1;33m]\u001b[0m\u001b[1;33m\u001b[0m\u001b[0m\n\u001b[0;32m----> 3\u001b[0;31m     \u001b[1;32mreturn\u001b[0m \u001b[0mlog\u001b[0m\u001b[1;33m(\u001b[0m\u001b[0mreduce\u001b[0m\u001b[1;33m(\u001b[0m \u001b[1;32mlambda\u001b[0m \u001b[0mx\u001b[0m\u001b[1;33m,\u001b[0m \u001b[0my\u001b[0m\u001b[1;33m:\u001b[0m \u001b[0mx\u001b[0m\u001b[1;33m*\u001b[0m\u001b[0my\u001b[0m\u001b[1;33m,\u001b[0m \u001b[0mdata_likhod\u001b[0m\u001b[1;33m)\u001b[0m\u001b[1;33m)\u001b[0m\u001b[1;33m\u001b[0m\u001b[0m\n\u001b[0m",
      "\u001b[0;31mValueError\u001b[0m: math domain error"
     ]
    }
   ],
   "source": [
    "likhod(data, c, cov_l, ge_pi(5))"
   ]
  },
  {
   "cell_type": "code",
   "execution_count": 64,
   "metadata": {
    "collapsed": false,
    "scrolled": true
   },
   "outputs": [
    {
     "data": {
      "text/plain": [
       "[[0.1, 490.1], [0.1, 1226.1]]"
      ]
     },
     "execution_count": 64,
     "metadata": {},
     "output_type": "execute_result"
    }
   ],
   "source": [
    "[add([0.1, 0.1], i)  for i in random.sample(data, 2)]"
   ]
  },
  {
   "cell_type": "code",
   "execution_count": 66,
   "metadata": {
    "collapsed": false,
    "scrolled": true
   },
   "outputs": [
    {
     "data": {
      "text/plain": [
       "[[[0.4818189468827886, 0.0], [0.0, 0.3425863968697871]],\n",
       " [[0.37026537147715705, 0.0], [0.0, 0.08384262866215438]]]"
      ]
     },
     "execution_count": 66,
     "metadata": {},
     "output_type": "execute_result"
    }
   ],
   "source": [
    "[ ge_cov(2) for i in range(2)]"
   ]
  },
  {
   "cell_type": "code",
   "execution_count": 69,
   "metadata": {
    "collapsed": false
   },
   "outputs": [
    {
     "data": {
      "text/plain": [
       "[0.2966, 0.7034]"
      ]
     },
     "execution_count": 69,
     "metadata": {},
     "output_type": "execute_result"
    }
   ],
   "source": [
    "ge_pi(2)"
   ]
  },
  {
   "cell_type": "code",
   "execution_count": null,
   "metadata": {
    "collapsed": true
   },
   "outputs": [],
   "source": []
  },
  {
   "cell_type": "code",
   "execution_count": 92,
   "metadata": {
    "collapsed": true
   },
   "outputs": [],
   "source": [
    "def comp_gam(data, c, cov_list, pi):\n",
    "    return [[m_n.pdf(i, j, k)*l for (j,k,l) in zip(c, cov_list, pi)] for i in data]"
   ]
  },
  {
   "cell_type": "code",
   "execution_count": null,
   "metadata": {
    "collapsed": true
   },
   "outputs": [],
   "source": [
    "comp_gam( )"
   ]
  },
  {
   "cell_type": "code",
   "execution_count": 79,
   "metadata": {
    "collapsed": true
   },
   "outputs": [],
   "source": [
    "a =[[0.1, 490.1], [0.1, 1226.1]]\n",
    "b= [[[0.4818189468827886, 0.0], [0.0, 0.3425863968697871]],\n",
    " [[0.37026537147715705, 0.0], [0.0, 0.08384262866215438]]]"
   ]
  },
  {
   "cell_type": "code",
   "execution_count": 82,
   "metadata": {
    "collapsed": false
   },
   "outputs": [
    {
     "data": {
      "text/plain": [
       "[[[0.4818189468827886, 0.0], [0.0, 0.3425863968697871]],\n",
       " [[0.37026537147715705, 0.0], [0.0, 0.08384262866215438]]]"
      ]
     },
     "execution_count": 82,
     "metadata": {},
     "output_type": "execute_result"
    }
   ],
   "source": [
    "b"
   ]
  },
  {
   "cell_type": "code",
   "execution_count": 83,
   "metadata": {
    "collapsed": false
   },
   "outputs": [
    {
     "data": {
      "text/plain": [
       "[([0.1, 490.1], [0.1, 1226.1]),\n",
       " ([[0.4818189468827886, 0.0], [0.0, 0.3425863968697871]],\n",
       "  [[0.37026537147715705, 0.0], [0.0, 0.08384262866215438]])]"
      ]
     },
     "execution_count": 83,
     "metadata": {},
     "output_type": "execute_result"
    }
   ],
   "source": [
    "[(j,k) for (j, k) in (a, b)] "
   ]
  },
  {
   "cell_type": "code",
   "execution_count": null,
   "metadata": {
    "collapsed": true
   },
   "outputs": [],
   "source": [
    "[(i,j) for (i,j) in ()]"
   ]
  },
  {
   "cell_type": "code",
   "execution_count": 55,
   "metadata": {
    "collapsed": true
   },
   "outputs": [],
   "source": [
    "p = np.array(ge_cov(3))\n",
    "p1=np.linalg.inv(p)"
   ]
  },
  {
   "cell_type": "markdown",
   "metadata": {},
   "source": [
    "## [ge_cov(2) for i in range(10)]"
   ]
  },
  {
   "cell_type": "code",
   "execution_count": null,
   "metadata": {
    "collapsed": true
   },
   "outputs": [],
   "source": []
  },
  {
   "cell_type": "code",
   "execution_count": 28,
   "metadata": {
    "collapsed": true
   },
   "outputs": [],
   "source": [
    "data=[[0, 0],\n",
    " [0, 0],\n",
    " [0, 0],\n",
    " [0, 0],\n",
    " [0, 0],\n",
    " [0, 0],\n",
    " [0, 1],\n",
    " [0, 1],\n",
    " [0, 1],\n",
    " [0, 1],\n",
    " [0, 1],\n",
    " [0, 2],\n",
    " [0, 2],\n",
    " [0, 2],\n",
    " [0, 3],\n",
    " [0, 3],\n",
    " [0, 3],\n",
    " [0, 3],\n",
    " [0, 3],\n",
    " [0, 4],\n",
    " [0, 4],\n",
    " [0, 4],\n",
    " [0, 5],\n",
    " [0, 5],\n",
    " [0, 5],\n",
    " [0, 5],\n",
    " [0, 5],\n",
    " [0, 5],\n",
    " [0, 6],\n",
    " [0, 6],\n",
    " [0, 6],\n",
    " [0, 7],\n",
    " [0, 7],\n",
    " [0, 8],\n",
    " [0, 8],\n",
    " [0, 11],\n",
    " [0, 12],\n",
    " [0, 12],\n",
    " [0, 12],\n",
    " [0, 13],\n",
    " [0, 13],\n",
    " [0, 13],\n",
    " [0, 14],\n",
    " [0, 14],\n",
    " [0, 14],\n",
    " [0, 14],\n",
    " [0, 15],\n",
    " [0, 16],\n",
    " [0, 16],\n",
    " [0, 19],\n",
    " [0, 19],\n",
    " [0, 19],\n",
    " [0, 20],\n",
    " [0, 21],\n",
    " [0, 24],\n",
    " [0, 26],\n",
    " [0, 27],\n",
    " [0, 27],\n",
    " [0, 28],\n",
    " [0, 28],\n",
    " [0, 30],\n",
    " [0, 30],\n",
    " [0, 32],\n",
    " [0, 35],\n",
    " [0, 35],\n",
    " [0, 38],\n",
    " [0, 39],\n",
    " [0, 39],\n",
    " [0, 39],\n",
    " [0, 41],\n",
    " [0, 42],\n",
    " [0, 42],\n",
    " [0, 43],\n",
    " [0, 43],\n",
    " [0, 44],\n",
    " [0, 45],\n",
    " [0, 45],\n",
    " [0, 46],\n",
    " [0, 48],\n",
    " [0, 48],\n",
    " [0, 48],\n",
    " [0, 49],\n",
    " [0, 50],\n",
    " [0, 50],\n",
    " [0, 51],\n",
    " [0, 52],\n",
    " [0, 54],\n",
    " [0, 55],\n",
    " [0, 58],\n",
    " [0, 59],\n",
    " [0, 59],\n",
    " [0, 60],\n",
    " [0, 61],\n",
    " [0, 61],\n",
    " [0, 62],\n",
    " [0, 63],\n",
    " [0, 64],\n",
    " [0, 66],\n",
    " [0, 66],\n",
    " [0, 67],\n",
    " [0, 70],\n",
    " [0, 73],\n",
    " [0, 75],\n",
    " [0, 75],\n",
    " [0, 77],\n",
    " [0, 78],\n",
    " [0, 80],\n",
    " [0, 84],\n",
    " [0, 88],\n",
    " [0, 91],\n",
    " [0, 94],\n",
    " [0, 99],\n",
    " [0, 102],\n",
    " [0, 104],\n",
    " [0, 104],\n",
    " [0, 105],\n",
    " [0, 108],\n",
    " [0, 108],\n",
    " [0, 109],\n",
    " [0, 109],\n",
    " [0, 114],\n",
    " [0, 114],\n",
    " [0, 115],\n",
    " [0, 120],\n",
    " [0, 121],\n",
    " [0, 121],\n",
    " [0, 122],\n",
    " [0, 123],\n",
    " [0, 127],\n",
    " [0, 128],\n",
    " [0, 129],\n",
    " [0, 129],\n",
    " [0, 130],\n",
    " [0, 130],\n",
    " [0, 134],\n",
    " [0, 135],\n",
    " [0, 135],\n",
    " [0, 138],\n",
    " [0, 143],\n",
    " [0, 149],\n",
    " [0, 154],\n",
    " [0, 154],\n",
    " [0, 155],\n",
    " [0, 156],\n",
    " [0, 158],\n",
    " [0, 160],\n",
    " [0, 163],\n",
    " [0, 165],\n",
    " [0, 166],\n",
    " [0, 166],\n",
    " [0, 167],\n",
    " [0, 171],\n",
    " [0, 180],\n",
    " [0, 180],\n",
    " [0, 182],\n",
    " [0, 184],\n",
    " [0, 185],\n",
    " [0, 196],\n",
    " [0, 202],\n",
    " [0, 204],\n",
    " [0, 207],\n",
    " [0, 212],\n",
    " [0, 226],\n",
    " [0, 235],\n",
    " [0, 238],\n",
    " [0, 251],\n",
    " [0, 252],\n",
    " [0, 255],\n",
    " [0, 257],\n",
    " [0, 263],\n",
    " [0, 265],\n",
    " [0, 266],\n",
    " [0, 270],\n",
    " [0, 272],\n",
    " [0, 280],\n",
    " [0, 292],\n",
    " [0, 301],\n",
    " [0, 301],\n",
    " [0, 308],\n",
    " [0, 317],\n",
    " [0, 321],\n",
    " [0, 326],\n",
    " [0, 326],\n",
    " [0, 327],\n",
    " [0, 333],\n",
    " [0, 337],\n",
    " [0, 338],\n",
    " [0, 341],\n",
    " [0, 345],\n",
    " [0, 345],\n",
    " [0, 346],\n",
    " [0, 351],\n",
    " [0, 353],\n",
    " [0, 360],\n",
    " [0, 363],\n",
    " [0, 363],\n",
    " [0, 367],\n",
    " [0, 370],\n",
    " [0, 373],\n",
    " [0, 377],\n",
    " [0, 377],\n",
    " [0, 377],\n",
    " [0, 379],\n",
    " [0, 400],\n",
    " [0, 401],\n",
    " [0, 403],\n",
    " [0, 404],\n",
    " [0, 415],\n",
    " [0, 415],\n",
    " [0, 416],\n",
    " [0, 421],\n",
    " [0, 423],\n",
    " [0, 427],\n",
    " [0, 433],\n",
    " [0, 439],\n",
    " [0, 444],\n",
    " [0, 461],\n",
    " [0, 469],\n",
    " [0, 475],\n",
    " [0, 478],\n",
    " [0, 478],\n",
    " [0, 480],\n",
    " [0, 481],\n",
    " [0, 490],\n",
    " [0, 495],\n",
    " [0, 504],\n",
    " [0, 517],\n",
    " [0, 521],\n",
    " [0, 524],\n",
    " [0, 545],\n",
    " [0, 550],\n",
    " [0, 552],\n",
    " [0, 563],\n",
    " [0, 565],\n",
    " [0, 581],\n",
    " [0, 582],\n",
    " [0, 590],\n",
    " [0, 596],\n",
    " [0, 603],\n",
    " [0, 611],\n",
    " [0, 614],\n",
    " [0, 620],\n",
    " [0, 621],\n",
    " [0, 624],\n",
    " [0, 634],\n",
    " [0, 652],\n",
    " [0, 666],\n",
    " [0, 667],\n",
    " [0, 668],\n",
    " [0, 671],\n",
    " [0, 674],\n",
    " [0, 675],\n",
    " [0, 679],\n",
    " [0, 680],\n",
    " [0, 687],\n",
    " [0, 695],\n",
    " [0, 699],\n",
    " [0, 700],\n",
    " [0, 704],\n",
    " [0, 727],\n",
    " [0, 738],\n",
    " [0, 743],\n",
    " [0, 750],\n",
    " [0, 757],\n",
    " [0, 774],\n",
    " [0, 789],\n",
    " [0, 797],\n",
    " [0, 803],\n",
    " [0, 814],\n",
    " [0, 817],\n",
    " [0, 819],\n",
    " [0, 830],\n",
    " [0, 833],\n",
    " [0, 891],\n",
    " [0, 896],\n",
    " [0, 916],\n",
    " [0, 947],\n",
    " [0, 947],\n",
    " [0, 986],\n",
    " [0, 988],\n",
    " [0, 989],\n",
    " [0, 994],\n",
    " [0, 1022],\n",
    " [0, 1030],\n",
    " [0, 1052],\n",
    " [0, 1054],\n",
    " [0, 1067],\n",
    " [0, 1078],\n",
    " [0, 1092],\n",
    " [0, 1119],\n",
    " [0, 1122],\n",
    " [0, 1147],\n",
    " [0, 1190],\n",
    " [0, 1200],\n",
    " [0, 1226],\n",
    " [0, 1247],\n",
    " [0, 1283],\n",
    " [0, 1318],\n",
    " [0, 1358],\n",
    " [0, 1358],\n",
    " [0, 1369],\n",
    " [0, 1400],\n",
    " [0, 1437],\n",
    " [0, 1454],\n",
    " [0, 1468],\n",
    " [0, 1498],\n",
    " [0, 1505],\n",
    " [0, 1535],\n",
    " [0, 1545],\n",
    " [0, 1580],\n",
    " [0, 1628],\n",
    " [0, 1667],\n",
    " [0, 1679],\n",
    " [0, 1695],\n",
    " [0, 1701],\n",
    " [0, 1710],\n",
    " [0, 1730],\n",
    " [0, 1798],\n",
    " [0, 1839],\n",
    " [0, 1861],\n",
    " [0, 1927],\n",
    " [0, 1955],\n",
    " [0, 2007],\n",
    " [0, 2049],\n",
    " [0, 2051],\n",
    " [0, 2090],\n",
    " [0, 2161],\n",
    " [0, 2233],\n",
    " [0, 2334],\n",
    " [0, 2477],\n",
    " [0, 2485],\n",
    " [0, 2683],\n",
    " [0, 2820],\n",
    " [0, 3023],\n",
    " [0, 3076],\n",
    " [0, 3205],\n",
    " [0, 3295],\n",
    " [0, 3338],\n",
    " [0, 3341],\n",
    " [0, 3423],\n",
    " [0, 3849],\n",
    " [0, 3868],\n",
    " [0, 3868],\n",
    " [0, 3955],\n",
    " [0, 4296],\n",
    " [0, 4393],\n",
    " [0, 4433],\n",
    " [0, 4602],\n",
    " [0, 4719],\n",
    " [0, 4855],\n",
    " [0, 5016],\n",
    " [0, 5169],\n",
    " [0, 5350],\n",
    " [0, 5968],\n",
    " [0, 6042],\n",
    " [0, 6962],\n",
    " [0, 7925],\n",
    " [0, 8010],\n",
    " [0, 8049],\n",
    " [0, 8149],\n",
    " [0, 9180],\n",
    " [0, 9421],\n",
    " [0, 9726],\n",
    " [0, 11237],\n",
    " [0, 12232],\n",
    " [0, 12507],\n",
    " [0, 15563],\n",
    " [0, 22606],\n",
    " [0, 96484],\n",
    " [1, 0],\n",
    " [1, 2],\n",
    " [1, 15],\n",
    " [1, 26],\n",
    " [1, 29],\n",
    " [1, 75],\n",
    " [1, 163],\n",
    " [1, 193],\n",
    " [1, 195],\n",
    " [1, 222],\n",
    " [1, 239],\n",
    " [1, 243],\n",
    " [1, 268],\n",
    " [1, 371],\n",
    " [1, 402],\n",
    " [1, 403],\n",
    " [1, 407],\n",
    " [1, 409],\n",
    " [1, 412],\n",
    " [1, 444],\n",
    " [1, 504],\n",
    " [1, 506],\n",
    " [1, 571],\n",
    " [1, 576],\n",
    " [1, 608],\n",
    " [1, 685],\n",
    " [1, 770],\n",
    " [1, 814],\n",
    " [1, 933],\n",
    " [1, 1094],\n",
    " [1, 1631],\n",
    " [1, 2523],\n",
    " [1, 2640],\n",
    " [1, 3240],\n",
    " [1, 3894],\n",
    " [1, 3941],\n",
    " [1, 5813],\n",
    " [1, 7967],\n",
    " [1, 8951],\n",
    " [1, 9241],\n",
    " [1, 14970],\n",
    " [1, 29981],\n",
    " [1, 52209],\n",
    " [2, 34],\n",
    " [2, 52],\n",
    " [2, 93],\n",
    " [2, 205],\n",
    " [2, 246],\n",
    " [2, 338],\n",
    " [2, 387],\n",
    " [2, 570],\n",
    " [2, 1152],\n",
    " [2, 2579],\n",
    " [2, 129356],\n",
    " [2, 379672],\n",
    " [3, 10],\n",
    " [3, 22],\n",
    " [3, 37],\n",
    " [3, 101],\n",
    " [3, 108],\n",
    " [3, 151],\n",
    " [3, 160],\n",
    " [3, 215],\n",
    " [3, 243],\n",
    " [3, 725],\n",
    " [3, 825],\n",
    " [3, 2127],\n",
    " [3, 4452],\n",
    " [3, 93060],\n",
    " [4, 7],\n",
    " [4, 12],\n",
    " [4, 84],\n",
    " [4, 290],\n",
    " [4, 324],\n",
    " [4, 358],\n",
    " [4, 475],\n",
    " [4, 580],\n",
    " [5, 406],\n",
    " [5, 596],\n",
    " [5, 731],\n",
    " [5, 1000],\n",
    " [5, 4309],\n",
    " [6, 146],\n",
    " [6, 1094],\n",
    " [6, 2577],\n",
    " [7, 1],\n",
    " [7, 64],\n",
    " [7, 243],\n",
    " [7, 4135],\n",
    " [7, 4603],\n",
    " [8, 28],\n",
    " [8, 375],\n",
    " [8, 524],\n",
    " [8, 1143],\n",
    " [8, 1735],\n",
    " [9, 915],\n",
    " [10, 106],\n",
    " [10, 243],\n",
    " [10, 11845],\n",
    " [11, 128],\n",
    " [11, 199],\n",
    " [11, 1290],\n",
    " [12, 0],\n",
    " [12, 38],\n",
    " [12, 92],\n",
    " [12, 99],\n",
    " [12, 357],\n",
    " [12, 1046],\n",
    " [13, 119],\n",
    " [13, 2731],\n",
    " [14, 57],\n",
    " [14, 474],\n",
    " [14, 848],\n",
    " [14, 1261],\n",
    " [15, 48],\n",
    " [15, 101],\n",
    " [15, 204],\n",
    " [15, 1126],\n",
    " [16, 654],\n",
    " [17, 2748],\n",
    " [17, 13298],\n",
    " [18, 0],\n",
    " [18, 27410],\n",
    " [19, 148],\n",
    " [21, 1062],\n",
    " [23, 1143],\n",
    " [24, 89],\n",
    " [24, 137],\n",
    " [24, 1255],\n",
    " [25, 405],\n",
    " [26, 25594],\n",
    " [28, 3],\n",
    " [28, 13366],\n",
    " [29, 115],\n",
    " [29, 1405],\n",
    " [30, 166],\n",
    " [30, 436],\n",
    " [31, 4],\n",
    " [31, 354],\n",
    " [31, 857],\n",
    " [31, 1254],\n",
    " [31, 1431],\n",
    " [35, 391],\n",
    " [36, 14],\n",
    " [36, 599],\n",
    " [37, 64],\n",
    " [40, 16],\n",
    " [40, 1398],\n",
    " [41, 1896],\n",
    " [43, 245],\n",
    " [44, 27],\n",
    " [46, 77],\n",
    " [46, 863],\n",
    " [48, 764],\n",
    " [50, 11],\n",
    " [50, 201],\n",
    " [50, 1307],\n",
    " [52, 648],\n",
    " [52, 981],\n",
    " [54, 675],\n",
    " [55, 943],\n",
    " [58, 1506],\n",
    " [67, 2335],\n",
    " [70, 1655],\n",
    " [70, 9369],\n",
    " [71, 248],\n",
    " [73, 738],\n",
    " [73, 1063],\n",
    " [77, 66],\n",
    " [78, 64],\n",
    " [79, 59],\n",
    " [79, 2972],\n",
    " [80, 44],\n",
    " [80, 9258],\n",
    " [84, 24],\n",
    " [89, 50],\n",
    " [95, 262],\n",
    " [103, 142],\n",
    " [104, 337],\n",
    " [105, 49],\n",
    " [108, 159],\n",
    " [109, 338],\n",
    " [110, 1117],\n",
    " [110, 1858],\n",
    " [114, 128],\n",
    " [116, 141217],\n",
    " [121, 705],\n",
    " [126, 797],\n",
    " [128, 2633],\n",
    " [130, 17],\n",
    " [132, 1],\n",
    " [153, 1],\n",
    " [155, 2084],\n",
    " [173, 29017],\n",
    " [176, 149],\n",
    " [177, 868],\n",
    " [179, 106],\n",
    " [180, 10425],\n",
    " [188, 2659],\n",
    " [190, 103],\n",
    " [191, 278],\n",
    " [192, 4031],\n",
    " [194, 300],\n",
    " [212, 33],\n",
    " [212, 178],\n",
    " [213, 62],\n",
    " [227, 89],\n",
    " [240, 125405],\n",
    " [244, 2266],\n",
    " [247, 47],\n",
    " [252, 123],\n",
    " [258, 394],\n",
    " [297, 9904],\n",
    " [305, 14],\n",
    " [308, 0],\n",
    " [315, 211],\n",
    " [318, 239],\n",
    " [361, 242],\n",
    " [368, 526],\n",
    " [383, 377],\n",
    " [407, 87],\n",
    " [438, 0],\n",
    " [447, 0],\n",
    " [456, 202],\n",
    " [457, 250],\n",
    " [566, 6],\n",
    " [587, 36],\n",
    " [612, 3360],\n",
    " [618, 1198],\n",
    " [650, 50],\n",
    " [667, 276],\n",
    " [693, 446],\n",
    " [734, 16876],\n",
    " [760, 2257],\n",
    " [761, 156],\n",
    " [822, 223],\n",
    " [826, 124],\n",
    " [847, 1887],\n",
    " [855, 1411],\n",
    " [864, 177],\n",
    " [920, 115],\n",
    " [935, 849],\n",
    " [1006, 175],\n",
    " [1015, 51],\n",
    " [1051, 303],\n",
    " [1118, 45],\n",
    " [1158, 11972],\n",
    " [1235, 1],\n",
    " [1354, 82],\n",
    " [1428, 55],\n",
    " [1457, 2629],\n",
    " [1462, 117],\n",
    " [1504, 23],\n",
    " [1760, 1363],\n",
    " [1825, 1341],\n",
    " [2207, 103],\n",
    " [2803, 0],\n",
    " [2904, 496],\n",
    " [2990, 182],\n",
    " [3247, 81],\n",
    " [3571, 121],\n",
    " [3737, 16361],\n",
    " [3858, 62],\n",
    " [4059, 1332],\n",
    " [4431, 11],\n",
    " [4818, 1355],\n",
    " [5342, 433],\n",
    " [5583, 234],\n",
    " [6541, 508],\n",
    " [6614, 522],\n",
    " [6709, 78],\n",
    " [7273, 202],\n",
    " [8402, 13077],\n",
    " [8405, 492],\n",
    " [8501, 35],\n",
    " [8566, 154],\n",
    " [8681, 111],\n",
    " [8794, 1],\n",
    " [9130, 646],\n",
    " [11888, 395],\n",
    " [12720, 720],\n",
    " [30634, 64],\n",
    " [35960, 2],\n",
    " [36029, 306],\n",
    " [36280, 104],\n",
    " [36964, 292],\n",
    " [59762, 1],\n",
    " [63948, 644],\n",
    " [81014, 718],\n",
    " [102176, 33],\n",
    " [114335, 4399]]"
   ]
  }
 ],
 "metadata": {
  "kernelspec": {
   "display_name": "Python 2",
   "language": "python",
   "name": "python2"
  },
  "language_info": {
   "codemirror_mode": {
    "name": "ipython",
    "version": 2
   },
   "file_extension": ".py",
   "mimetype": "text/x-python",
   "name": "python",
   "nbconvert_exporter": "python",
   "pygments_lexer": "ipython2",
   "version": "2.7.13"
  }
 },
 "nbformat": 4,
 "nbformat_minor": 2
}
