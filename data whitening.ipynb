{
 "cells": [
  {
   "cell_type": "code",
   "execution_count": 2,
   "metadata": {
    "collapsed": false
   },
   "outputs": [],
   "source": [
    "from __future__ import division\n",
    "import tensor_calculation as t\n",
    "import tensor_advanced as ta\n",
    "from collections import Counter\n",
    "from i import Ima\n",
    "import random\n",
    "from math import exp"
   ]
  },
  {
   "cell_type": "code",
   "execution_count": 3,
   "metadata": {
    "collapsed": true
   },
   "outputs": [],
   "source": [
    "def center_data(data):\n",
    "    m_center = t.list_nu(t.list_sum(data) ,-1/len(data))\n",
    "    return [t.list_add(d, m_center) for d in data]"
   ]
  },
  {
   "cell_type": "code",
   "execution_count": 4,
   "metadata": {
    "collapsed": true
   },
   "outputs": [],
   "source": [
    "def covari(data):\n",
    "    cdata = center_data(data)\n",
    "    return t.list_nu(t.list_sum([ta.mat_dot(ta.colu_fi(d), [d]) for d in cdata]), 1/len(data))"
   ]
  },
  {
   "cell_type": "code",
   "execution_count": 5,
   "metadata": {
    "collapsed": true
   },
   "outputs": [],
   "source": [
    "def normaliz(data):\n",
    "    if type(data[0]) != list:\n",
    "        return t.list_nu(data, 1/(sum(t.list_muti(data,  data)))**(1/2) )\n",
    "    else:\n",
    "        return [normaliz(d) for d in data]"
   ]
  },
  {
   "cell_type": "code",
   "execution_count": 6,
   "metadata": {
    "collapsed": true
   },
   "outputs": [],
   "source": [
    "def re(data):   #compute real part\n",
    "    if type(data[0]) != list:\n",
    "        return [i.re for i in data ]\n",
    "    else:\n",
    "        return [re(d) for d in data]"
   ]
  },
  {
   "cell_type": "code",
   "execution_count": 16,
   "metadata": {
    "collapsed": true
   },
   "outputs": [],
   "source": [
    "def whiten(data):      # good for dimension smaller than 6 or 7\n",
    "    cov = covari(data)\n",
    "    eigva = re(ta.eigen_valu(cov))\n",
    "    eigv = ta.eigen_vec(cov, eigva) #since eigen values  are all real\n",
    "    nomal_list = [1/i**(1/2) if i !=0 else 0  for i in  eigva]\n",
    "    nomal_ma = [[nomal_list[k] if k ==j else 0 for k in range(len(eigva))] for j in range(len(eigva)) ]\n",
    "    #print ta.eigen_valu(cov)\n",
    "    neigv = normaliz(eigv)            \n",
    "    #print normaliz(eigv)\n",
    "    #print ta.mat_dot(neigv, t.transp(neigv, [1,0]))\n",
    "    return [ ta.mat_dot(ta.mat_dot(d, t.transp(neigv, [1,0])), nomal_ma ) for d in data] "
   ]
  },
  {
   "cell_type": "code",
   "execution_count": 20,
   "metadata": {
    "collapsed": false
   },
   "outputs": [],
   "source": [
    "data_x=ta.gene_random_tensor([100,5], (-1, 1))\n",
    "data1 = [x   if 2*x[0]**2+ 3*x[1]**2+10*x[0]*x[1]<1 else [0,0] for x in data_x ]"
   ]
  },
  {
   "cell_type": "code",
   "execution_count": 21,
   "metadata": {
    "collapsed": false
   },
   "outputs": [
    {
     "data": {
      "text/plain": [
       "[[0.9999999995094665,\n",
       "  0.0023197797028494693,\n",
       "  0.00011074940373883625,\n",
       "  -0.0006486857997537676,\n",
       "  -2.4364619272021495e-07],\n",
       " [0.0023197797028494693,\n",
       "  1.0001735420822315,\n",
       "  -0.01795642731084515,\n",
       "  -0.005337994085030351,\n",
       "  -0.0011887289054744164],\n",
       " [0.00011074940373883625,\n",
       "  -0.01795642731084515,\n",
       "  1.000038600552483,\n",
       "  -0.003763797312374151,\n",
       "  -7.562538998173885e-05],\n",
       " [-0.0006486857997537676,\n",
       "  -0.005337994085030351,\n",
       "  -0.003763797312374151,\n",
       "  0.999741881288322,\n",
       "  0.0008506224925185424],\n",
       " [-2.4364619272021495e-07,\n",
       "  -0.0011887289054744164,\n",
       "  -7.562538998173885e-05,\n",
       "  0.0008506224925185424,\n",
       "  0.9999999061771103]]"
      ]
     },
     "execution_count": 21,
     "metadata": {},
     "output_type": "execute_result"
    }
   ],
   "source": [
    "covari(whiten(data_x))"
   ]
  }
 ],
 "metadata": {
  "kernelspec": {
   "display_name": "Python 2",
   "language": "python",
   "name": "python2"
  },
  "language_info": {
   "codemirror_mode": {
    "name": "ipython",
    "version": 2
   },
   "file_extension": ".py",
   "mimetype": "text/x-python",
   "name": "python",
   "nbconvert_exporter": "python",
   "pygments_lexer": "ipython2",
   "version": "2.7.13"
  }
 },
 "nbformat": 4,
 "nbformat_minor": 2
}
