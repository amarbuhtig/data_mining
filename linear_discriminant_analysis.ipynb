{
 "cells": [
  {
   "cell_type": "code",
   "execution_count": 1,
   "metadata": {
    "collapsed": false
   },
   "outputs": [],
   "source": [
    "from __future__ import division\n",
    "import tensor_calculation as t\n",
    "import tensor_advanced as ta\n",
    "import data_whitening as dw\n",
    "from collections import Counter\n",
    "from i import Ima\n",
    "from collections import Counter\n",
    "import random"
   ]
  },
  {
   "cell_type": "code",
   "execution_count": 21,
   "metadata": {
    "collapsed": true
   },
   "outputs": [],
   "source": [
    "def lda(data):\n",
    "    d0=[]\n",
    "    d1=[]\n",
    "    for d in data:\n",
    "        if d[1] == [1,0]:\n",
    "            d0.append(d[0])\n",
    "        else:\n",
    "            d1.append(d[0])\n",
    "    c0 = t.list_nu(t.list_sum(d0) ,-1/len(d0))\n",
    "    c1 = t.list_nu(t.list_sum(d1) ,-1/len(d1))\n",
    "    sw = t.list_add(t.list_nu(dw.covari(d0), len(d0)), t.list_nu(dw.covari(d1), len(d1)))\n",
    "    print ta.matrix_inver(sw)\n",
    "    return ta.mat_dot(ta.matrix_inver(sw), t.list_sub(c0, c1))"
   ]
  },
  {
   "cell_type": "code",
   "execution_count": 23,
   "metadata": {
    "collapsed": true
   },
   "outputs": [],
   "source": [
    "data_k=ta.gene_random_tensor([1000,2], (-2, 2))\n",
    "data =[]\n",
    "for dk in data_k:\n",
    "    if (dk[0]-1)**2+ dk[1]**2<0.5**2 :\n",
    "        data.append([dk, [1,0] ])\n",
    "    elif  (dk[0]+1)**2+ dk[1]**2<0.5**2:\n",
    "        data.append([dk, [0,1] ])"
   ]
  },
  {
   "cell_type": "code",
   "execution_count": 24,
   "metadata": {
    "collapsed": false
   },
   "outputs": [
    {
     "name": "stdout",
     "output_type": "stream",
     "text": [
      "[[0.17381527320898416, 0.008031783817258395], [0.008031783817258395, 0.1556505763135618]]\n"
     ]
    },
    {
     "data": {
      "text/plain": [
       "[-0.36467439112946465, -0.015245761949376605]"
      ]
     },
     "execution_count": 24,
     "metadata": {},
     "output_type": "execute_result"
    }
   ],
   "source": [
    "lda(data)"
   ]
  }
 ],
 "metadata": {
  "kernelspec": {
   "display_name": "Python 2",
   "language": "python",
   "name": "python2"
  },
  "language_info": {
   "codemirror_mode": {
    "name": "ipython",
    "version": 2
   },
   "file_extension": ".py",
   "mimetype": "text/x-python",
   "name": "python",
   "nbconvert_exporter": "python",
   "pygments_lexer": "ipython2",
   "version": "2.7.13"
  }
 },
 "nbformat": 4,
 "nbformat_minor": 2
}
